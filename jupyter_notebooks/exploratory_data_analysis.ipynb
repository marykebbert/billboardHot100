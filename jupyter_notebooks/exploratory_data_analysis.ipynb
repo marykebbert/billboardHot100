{
 "cells": [
  {
   "cell_type": "code",
   "execution_count": 1,
   "metadata": {},
   "outputs": [],
   "source": [
    "# import the necessary packages\n",
    "import pandas as pd\n",
    "import plotly.express as px\n",
    "import plotly.io as pio\n",
    "import plotly.graph_objects as go"
   ]
  },
  {
   "cell_type": "code",
   "execution_count": 2,
   "metadata": {},
   "outputs": [],
   "source": [
    "# change the default theme\n",
    "pio.templates.default = \"plotly_white\""
   ]
  },
  {
   "cell_type": "code",
   "execution_count": 4,
   "metadata": {},
   "outputs": [],
   "source": [
    "# read in data and format\n",
    "df = pd.read_table(\"date_indexed_songs.csv\")\n",
    "df.index = df.set_index('date').index.astype('datetime64[ns]')\n",
    "df['album_name'] = df['album_name'].astype('category')\n",
    "df['album_name'] = df['album_name'].cat.rename_categories({'Taylor Swift': 'Taylor Swift',\n",
    "                                                          'Fearless Platinum Edition': 'Fearless',\n",
    "                                                         'Speak Now (Deluxe Edition)': 'Speak Now',\n",
    "                                                         'Red (Deluxe Edition)': 'Red',\n",
    "                                                         '1989 (Deluxe Edition)': '1989',\n",
    "                                                         'reputation': 'reputation',\n",
    "                                                         'lover': 'lover',\n",
    "                                                         'folklore (deluxe version)': 'folklore',\n",
    "                                                         'evermore (deluxe version)': 'evermore',\n",
    "                                                         \"Fearless (Taylor's Version)\": \"Fearless (Taylor's Version)\",\n",
    "                                                         \"Red (Taylor's Version)\": \"Red (Taylor's Version)\",\n",
    "                                                         'Midnights (3am Edition)': 'Midnights'})"
   ]
  },
  {
   "cell_type": "code",
   "execution_count": 6,
   "metadata": {},
   "outputs": [],
   "source": [
    "# set a color for each album based on the album cover\n",
    "# list all main albums\n",
    "album_colors = {\n",
    "    'Taylor Swift': '#4BA1C7',\n",
    "    'Fearless': '#C9B079',\n",
    "    '1989': '#C5b5d4',\n",
    "    'Red': '#a71f1f',\n",
    "    'reputation': '#000000',\n",
    "    'Midnights': '#898ea8',\n",
    "    'folklore': '#CBCBCB',\n",
    "    'evermore': '#DA9F79',\n",
    "    \"Red (Taylor's Version)\": '#c96464',\n",
    "    'Speak Now': '#B9779E',\n",
    "    'lover': '#FCF1C7',\n",
    "    \"Fearless (Taylor's Version)\": '#745835'\n",
    "    }\n",
    "albums = ['Taylor Swift','Fearless','Speak Now','Red','1989','reputation','lover','folklore','evermore',\"Fearless (Taylor's Version)\",\"Red (Taylor's Version)\",'Midnights']"
   ]
  },
  {
   "cell_type": "code",
   "execution_count": 33,
   "metadata": {},
   "outputs": [],
   "source": [
    "# function to graph all albums over a user-defined period\n",
    "def get_all_albums(period):\n",
    "    fig = go.Figure()\n",
    "    \n",
    "    for album in albums:\n",
    "        period_inTop100 = df[df['album_name'] == album].resample(period).count()\n",
    "        \n",
    "        fig.add_trace(go.Scatter(x=period_inTop100.index, y=period_inTop100['rank'],\n",
    "                    mode='lines+markers',\n",
    "                    name=album,\n",
    "                                marker_color = album_colors[album]))\n",
    "    fig.update_layout(\n",
    "    title='Number of Songs in the Billboard Hot 100 by Album',\n",
    "    xaxis_title='Date',\n",
    "    yaxis_title='Number of Songs in the Billboard Hot 100',\n",
    "    legend_title='Albums')\n",
    "    fig.write_html(\"Number of songs in the billboard hot 100 by album.html\")\n",
    "    fig.show()"
   ]
  },
  {
   "cell_type": "code",
   "execution_count": 34,
   "metadata": {},
   "outputs": [
    {
     "data": {
      "application/vnd.plotly.v1+json": {
       "config": {
        "plotlyServerURL": "https://plot.ly"
       },
       "data": [
        {
         "marker": {
          "color": "#4BA1C7"
         },
         "mode": "lines+markers",
         "name": "Taylor Swift",
         "type": "scatter",
         "x": [
          "2006-09-30T00:00:00",
          "2006-12-31T00:00:00",
          "2007-03-31T00:00:00",
          "2007-06-30T00:00:00",
          "2007-09-30T00:00:00",
          "2007-12-31T00:00:00",
          "2008-03-31T00:00:00",
          "2008-06-30T00:00:00",
          "2008-09-30T00:00:00",
          "2008-12-31T00:00:00"
         ],
         "y": [
          2,
          13,
          7,
          13,
          10,
          15,
          31,
          35,
          15,
          3
         ]
        },
        {
         "marker": {
          "color": "#C9B079"
         },
         "mode": "lines+markers",
         "name": "Fearless",
         "type": "scatter",
         "x": [
          "2008-08-31T00:00:00",
          "2008-11-30T00:00:00",
          "2009-02-28T00:00:00",
          "2009-05-31T00:00:00",
          "2009-08-31T00:00:00",
          "2009-11-30T00:00:00",
          "2010-02-28T00:00:00",
          "2010-05-31T00:00:00"
         ],
         "y": [
          1,
          25,
          27,
          28,
          26,
          33,
          25,
          15
         ]
        },
        {
         "marker": {
          "color": "#B9779E"
         },
         "mode": "lines+markers",
         "name": "Speak Now",
         "type": "scatter",
         "x": [
          "2010-08-31T00:00:00",
          "2010-11-30T00:00:00",
          "2011-02-28T00:00:00",
          "2011-05-31T00:00:00",
          "2011-08-31T00:00:00",
          "2011-11-30T00:00:00",
          "2012-02-29T00:00:00",
          "2012-05-31T00:00:00"
         ],
         "y": [
          2,
          31,
          21,
          13,
          22,
          17,
          18,
          6
         ]
        },
        {
         "marker": {
          "color": "#a71f1f"
         },
         "mode": "lines+markers",
         "name": "Red",
         "type": "scatter",
         "x": [
          "2012-08-31T00:00:00",
          "2012-11-30T00:00:00",
          "2013-02-28T00:00:00",
          "2013-05-31T00:00:00",
          "2013-08-31T00:00:00",
          "2013-11-30T00:00:00",
          "2014-02-28T00:00:00"
         ],
         "y": [
          1,
          33,
          39,
          23,
          23,
          26,
          2
         ]
        },
        {
         "marker": {
          "color": "#C5b5d4"
         },
         "mode": "lines+markers",
         "name": "1989",
         "type": "scatter",
         "x": [
          "2014-09-30T00:00:00",
          "2014-12-31T00:00:00",
          "2015-03-31T00:00:00",
          "2015-06-30T00:00:00",
          "2015-09-30T00:00:00",
          "2015-12-31T00:00:00",
          "2016-03-31T00:00:00",
          "2016-06-30T00:00:00"
         ],
         "y": [
          4,
          28,
          42,
          44,
          30,
          18,
          20,
          6
         ]
        },
        {
         "marker": {
          "color": "#000000"
         },
         "mode": "lines+markers",
         "name": "reputation",
         "type": "scatter",
         "x": [
          "2017-09-30T00:00:00",
          "2017-12-31T00:00:00",
          "2018-03-31T00:00:00",
          "2018-06-30T00:00:00",
          "2018-09-30T00:00:00",
          "2018-12-31T00:00:00"
         ],
         "y": [
          6,
          36,
          17,
          13,
          13,
          7
         ]
        },
        {
         "marker": {
          "color": "#FCF1C7"
         },
         "mode": "lines+markers",
         "name": "lover",
         "type": "scatter",
         "x": [],
         "y": []
        },
        {
         "marker": {
          "color": "#CBCBCB"
         },
         "mode": "lines+markers",
         "name": "folklore",
         "type": "scatter",
         "x": [
          "2020-08-31T00:00:00",
          "2020-11-30T00:00:00"
         ],
         "y": [
          32,
          13
         ]
        },
        {
         "marker": {
          "color": "#DA9F79"
         },
         "mode": "lines+markers",
         "name": "evermore",
         "type": "scatter",
         "x": [
          "2020-12-31T00:00:00",
          "2021-03-31T00:00:00",
          "2021-06-30T00:00:00"
         ],
         "y": [
          14,
          15,
          6
         ]
        },
        {
         "marker": {
          "color": "#745835"
         },
         "mode": "lines+markers",
         "name": "Fearless (Taylor's Version)",
         "type": "scatter",
         "x": [
          "2021-02-28T00:00:00",
          "2021-05-31T00:00:00"
         ],
         "y": [
          1,
          11
         ]
        },
        {
         "marker": {
          "color": "#c96464"
         },
         "mode": "lines+markers",
         "name": "Red (Taylor's Version)",
         "type": "scatter",
         "x": [
          "2021-11-30T00:00:00",
          "2022-02-28T00:00:00",
          "2022-05-31T00:00:00"
         ],
         "y": [
          26,
          28,
          1
         ]
        },
        {
         "marker": {
          "color": "#898ea8"
         },
         "mode": "lines+markers",
         "name": "Midnights",
         "type": "scatter",
         "x": [
          "2022-11-30T00:00:00"
         ],
         "y": [
          58
         ]
        }
       ],
       "layout": {
        "legend": {
         "title": {
          "text": "Albums"
         }
        },
        "template": {
         "data": {
          "bar": [
           {
            "error_x": {
             "color": "#2a3f5f"
            },
            "error_y": {
             "color": "#2a3f5f"
            },
            "marker": {
             "line": {
              "color": "white",
              "width": 0.5
             },
             "pattern": {
              "fillmode": "overlay",
              "size": 10,
              "solidity": 0.2
             }
            },
            "type": "bar"
           }
          ],
          "barpolar": [
           {
            "marker": {
             "line": {
              "color": "white",
              "width": 0.5
             },
             "pattern": {
              "fillmode": "overlay",
              "size": 10,
              "solidity": 0.2
             }
            },
            "type": "barpolar"
           }
          ],
          "carpet": [
           {
            "aaxis": {
             "endlinecolor": "#2a3f5f",
             "gridcolor": "#C8D4E3",
             "linecolor": "#C8D4E3",
             "minorgridcolor": "#C8D4E3",
             "startlinecolor": "#2a3f5f"
            },
            "baxis": {
             "endlinecolor": "#2a3f5f",
             "gridcolor": "#C8D4E3",
             "linecolor": "#C8D4E3",
             "minorgridcolor": "#C8D4E3",
             "startlinecolor": "#2a3f5f"
            },
            "type": "carpet"
           }
          ],
          "choropleth": [
           {
            "colorbar": {
             "outlinewidth": 0,
             "ticks": ""
            },
            "type": "choropleth"
           }
          ],
          "contour": [
           {
            "colorbar": {
             "outlinewidth": 0,
             "ticks": ""
            },
            "colorscale": [
             [
              0,
              "#0d0887"
             ],
             [
              0.1111111111111111,
              "#46039f"
             ],
             [
              0.2222222222222222,
              "#7201a8"
             ],
             [
              0.3333333333333333,
              "#9c179e"
             ],
             [
              0.4444444444444444,
              "#bd3786"
             ],
             [
              0.5555555555555556,
              "#d8576b"
             ],
             [
              0.6666666666666666,
              "#ed7953"
             ],
             [
              0.7777777777777778,
              "#fb9f3a"
             ],
             [
              0.8888888888888888,
              "#fdca26"
             ],
             [
              1,
              "#f0f921"
             ]
            ],
            "type": "contour"
           }
          ],
          "contourcarpet": [
           {
            "colorbar": {
             "outlinewidth": 0,
             "ticks": ""
            },
            "type": "contourcarpet"
           }
          ],
          "heatmap": [
           {
            "colorbar": {
             "outlinewidth": 0,
             "ticks": ""
            },
            "colorscale": [
             [
              0,
              "#0d0887"
             ],
             [
              0.1111111111111111,
              "#46039f"
             ],
             [
              0.2222222222222222,
              "#7201a8"
             ],
             [
              0.3333333333333333,
              "#9c179e"
             ],
             [
              0.4444444444444444,
              "#bd3786"
             ],
             [
              0.5555555555555556,
              "#d8576b"
             ],
             [
              0.6666666666666666,
              "#ed7953"
             ],
             [
              0.7777777777777778,
              "#fb9f3a"
             ],
             [
              0.8888888888888888,
              "#fdca26"
             ],
             [
              1,
              "#f0f921"
             ]
            ],
            "type": "heatmap"
           }
          ],
          "heatmapgl": [
           {
            "colorbar": {
             "outlinewidth": 0,
             "ticks": ""
            },
            "colorscale": [
             [
              0,
              "#0d0887"
             ],
             [
              0.1111111111111111,
              "#46039f"
             ],
             [
              0.2222222222222222,
              "#7201a8"
             ],
             [
              0.3333333333333333,
              "#9c179e"
             ],
             [
              0.4444444444444444,
              "#bd3786"
             ],
             [
              0.5555555555555556,
              "#d8576b"
             ],
             [
              0.6666666666666666,
              "#ed7953"
             ],
             [
              0.7777777777777778,
              "#fb9f3a"
             ],
             [
              0.8888888888888888,
              "#fdca26"
             ],
             [
              1,
              "#f0f921"
             ]
            ],
            "type": "heatmapgl"
           }
          ],
          "histogram": [
           {
            "marker": {
             "pattern": {
              "fillmode": "overlay",
              "size": 10,
              "solidity": 0.2
             }
            },
            "type": "histogram"
           }
          ],
          "histogram2d": [
           {
            "colorbar": {
             "outlinewidth": 0,
             "ticks": ""
            },
            "colorscale": [
             [
              0,
              "#0d0887"
             ],
             [
              0.1111111111111111,
              "#46039f"
             ],
             [
              0.2222222222222222,
              "#7201a8"
             ],
             [
              0.3333333333333333,
              "#9c179e"
             ],
             [
              0.4444444444444444,
              "#bd3786"
             ],
             [
              0.5555555555555556,
              "#d8576b"
             ],
             [
              0.6666666666666666,
              "#ed7953"
             ],
             [
              0.7777777777777778,
              "#fb9f3a"
             ],
             [
              0.8888888888888888,
              "#fdca26"
             ],
             [
              1,
              "#f0f921"
             ]
            ],
            "type": "histogram2d"
           }
          ],
          "histogram2dcontour": [
           {
            "colorbar": {
             "outlinewidth": 0,
             "ticks": ""
            },
            "colorscale": [
             [
              0,
              "#0d0887"
             ],
             [
              0.1111111111111111,
              "#46039f"
             ],
             [
              0.2222222222222222,
              "#7201a8"
             ],
             [
              0.3333333333333333,
              "#9c179e"
             ],
             [
              0.4444444444444444,
              "#bd3786"
             ],
             [
              0.5555555555555556,
              "#d8576b"
             ],
             [
              0.6666666666666666,
              "#ed7953"
             ],
             [
              0.7777777777777778,
              "#fb9f3a"
             ],
             [
              0.8888888888888888,
              "#fdca26"
             ],
             [
              1,
              "#f0f921"
             ]
            ],
            "type": "histogram2dcontour"
           }
          ],
          "mesh3d": [
           {
            "colorbar": {
             "outlinewidth": 0,
             "ticks": ""
            },
            "type": "mesh3d"
           }
          ],
          "parcoords": [
           {
            "line": {
             "colorbar": {
              "outlinewidth": 0,
              "ticks": ""
             }
            },
            "type": "parcoords"
           }
          ],
          "pie": [
           {
            "automargin": true,
            "type": "pie"
           }
          ],
          "scatter": [
           {
            "marker": {
             "colorbar": {
              "outlinewidth": 0,
              "ticks": ""
             }
            },
            "type": "scatter"
           }
          ],
          "scatter3d": [
           {
            "line": {
             "colorbar": {
              "outlinewidth": 0,
              "ticks": ""
             }
            },
            "marker": {
             "colorbar": {
              "outlinewidth": 0,
              "ticks": ""
             }
            },
            "type": "scatter3d"
           }
          ],
          "scattercarpet": [
           {
            "marker": {
             "colorbar": {
              "outlinewidth": 0,
              "ticks": ""
             }
            },
            "type": "scattercarpet"
           }
          ],
          "scattergeo": [
           {
            "marker": {
             "colorbar": {
              "outlinewidth": 0,
              "ticks": ""
             }
            },
            "type": "scattergeo"
           }
          ],
          "scattergl": [
           {
            "marker": {
             "colorbar": {
              "outlinewidth": 0,
              "ticks": ""
             }
            },
            "type": "scattergl"
           }
          ],
          "scattermapbox": [
           {
            "marker": {
             "colorbar": {
              "outlinewidth": 0,
              "ticks": ""
             }
            },
            "type": "scattermapbox"
           }
          ],
          "scatterpolar": [
           {
            "marker": {
             "colorbar": {
              "outlinewidth": 0,
              "ticks": ""
             }
            },
            "type": "scatterpolar"
           }
          ],
          "scatterpolargl": [
           {
            "marker": {
             "colorbar": {
              "outlinewidth": 0,
              "ticks": ""
             }
            },
            "type": "scatterpolargl"
           }
          ],
          "scatterternary": [
           {
            "marker": {
             "colorbar": {
              "outlinewidth": 0,
              "ticks": ""
             }
            },
            "type": "scatterternary"
           }
          ],
          "surface": [
           {
            "colorbar": {
             "outlinewidth": 0,
             "ticks": ""
            },
            "colorscale": [
             [
              0,
              "#0d0887"
             ],
             [
              0.1111111111111111,
              "#46039f"
             ],
             [
              0.2222222222222222,
              "#7201a8"
             ],
             [
              0.3333333333333333,
              "#9c179e"
             ],
             [
              0.4444444444444444,
              "#bd3786"
             ],
             [
              0.5555555555555556,
              "#d8576b"
             ],
             [
              0.6666666666666666,
              "#ed7953"
             ],
             [
              0.7777777777777778,
              "#fb9f3a"
             ],
             [
              0.8888888888888888,
              "#fdca26"
             ],
             [
              1,
              "#f0f921"
             ]
            ],
            "type": "surface"
           }
          ],
          "table": [
           {
            "cells": {
             "fill": {
              "color": "#EBF0F8"
             },
             "line": {
              "color": "white"
             }
            },
            "header": {
             "fill": {
              "color": "#C8D4E3"
             },
             "line": {
              "color": "white"
             }
            },
            "type": "table"
           }
          ]
         },
         "layout": {
          "annotationdefaults": {
           "arrowcolor": "#2a3f5f",
           "arrowhead": 0,
           "arrowwidth": 1
          },
          "autotypenumbers": "strict",
          "coloraxis": {
           "colorbar": {
            "outlinewidth": 0,
            "ticks": ""
           }
          },
          "colorscale": {
           "diverging": [
            [
             0,
             "#8e0152"
            ],
            [
             0.1,
             "#c51b7d"
            ],
            [
             0.2,
             "#de77ae"
            ],
            [
             0.3,
             "#f1b6da"
            ],
            [
             0.4,
             "#fde0ef"
            ],
            [
             0.5,
             "#f7f7f7"
            ],
            [
             0.6,
             "#e6f5d0"
            ],
            [
             0.7,
             "#b8e186"
            ],
            [
             0.8,
             "#7fbc41"
            ],
            [
             0.9,
             "#4d9221"
            ],
            [
             1,
             "#276419"
            ]
           ],
           "sequential": [
            [
             0,
             "#0d0887"
            ],
            [
             0.1111111111111111,
             "#46039f"
            ],
            [
             0.2222222222222222,
             "#7201a8"
            ],
            [
             0.3333333333333333,
             "#9c179e"
            ],
            [
             0.4444444444444444,
             "#bd3786"
            ],
            [
             0.5555555555555556,
             "#d8576b"
            ],
            [
             0.6666666666666666,
             "#ed7953"
            ],
            [
             0.7777777777777778,
             "#fb9f3a"
            ],
            [
             0.8888888888888888,
             "#fdca26"
            ],
            [
             1,
             "#f0f921"
            ]
           ],
           "sequentialminus": [
            [
             0,
             "#0d0887"
            ],
            [
             0.1111111111111111,
             "#46039f"
            ],
            [
             0.2222222222222222,
             "#7201a8"
            ],
            [
             0.3333333333333333,
             "#9c179e"
            ],
            [
             0.4444444444444444,
             "#bd3786"
            ],
            [
             0.5555555555555556,
             "#d8576b"
            ],
            [
             0.6666666666666666,
             "#ed7953"
            ],
            [
             0.7777777777777778,
             "#fb9f3a"
            ],
            [
             0.8888888888888888,
             "#fdca26"
            ],
            [
             1,
             "#f0f921"
            ]
           ]
          },
          "colorway": [
           "#636efa",
           "#EF553B",
           "#00cc96",
           "#ab63fa",
           "#FFA15A",
           "#19d3f3",
           "#FF6692",
           "#B6E880",
           "#FF97FF",
           "#FECB52"
          ],
          "font": {
           "color": "#2a3f5f"
          },
          "geo": {
           "bgcolor": "white",
           "lakecolor": "white",
           "landcolor": "white",
           "showlakes": true,
           "showland": true,
           "subunitcolor": "#C8D4E3"
          },
          "hoverlabel": {
           "align": "left"
          },
          "hovermode": "closest",
          "mapbox": {
           "style": "light"
          },
          "paper_bgcolor": "white",
          "plot_bgcolor": "white",
          "polar": {
           "angularaxis": {
            "gridcolor": "#EBF0F8",
            "linecolor": "#EBF0F8",
            "ticks": ""
           },
           "bgcolor": "white",
           "radialaxis": {
            "gridcolor": "#EBF0F8",
            "linecolor": "#EBF0F8",
            "ticks": ""
           }
          },
          "scene": {
           "xaxis": {
            "backgroundcolor": "white",
            "gridcolor": "#DFE8F3",
            "gridwidth": 2,
            "linecolor": "#EBF0F8",
            "showbackground": true,
            "ticks": "",
            "zerolinecolor": "#EBF0F8"
           },
           "yaxis": {
            "backgroundcolor": "white",
            "gridcolor": "#DFE8F3",
            "gridwidth": 2,
            "linecolor": "#EBF0F8",
            "showbackground": true,
            "ticks": "",
            "zerolinecolor": "#EBF0F8"
           },
           "zaxis": {
            "backgroundcolor": "white",
            "gridcolor": "#DFE8F3",
            "gridwidth": 2,
            "linecolor": "#EBF0F8",
            "showbackground": true,
            "ticks": "",
            "zerolinecolor": "#EBF0F8"
           }
          },
          "shapedefaults": {
           "line": {
            "color": "#2a3f5f"
           }
          },
          "ternary": {
           "aaxis": {
            "gridcolor": "#DFE8F3",
            "linecolor": "#A2B1C6",
            "ticks": ""
           },
           "baxis": {
            "gridcolor": "#DFE8F3",
            "linecolor": "#A2B1C6",
            "ticks": ""
           },
           "bgcolor": "white",
           "caxis": {
            "gridcolor": "#DFE8F3",
            "linecolor": "#A2B1C6",
            "ticks": ""
           }
          },
          "title": {
           "x": 0.05
          },
          "xaxis": {
           "automargin": true,
           "gridcolor": "#EBF0F8",
           "linecolor": "#EBF0F8",
           "ticks": "",
           "title": {
            "standoff": 15
           },
           "zerolinecolor": "#EBF0F8",
           "zerolinewidth": 2
          },
          "yaxis": {
           "automargin": true,
           "gridcolor": "#EBF0F8",
           "linecolor": "#EBF0F8",
           "ticks": "",
           "title": {
            "standoff": 15
           },
           "zerolinecolor": "#EBF0F8",
           "zerolinewidth": 2
          }
         }
        },
        "title": {
         "text": "Number of Songs in the Billboard Hot 100 by Album"
        },
        "xaxis": {
         "title": {
          "text": "Date"
         }
        },
        "yaxis": {
         "title": {
          "text": "Number of Songs in the Billboard Hot 100"
         }
        }
       }
      }
     },
     "metadata": {},
     "output_type": "display_data"
    }
   ],
   "source": [
    "get_all_albums('3M')"
   ]
  },
  {
   "cell_type": "code",
   "execution_count": 35,
   "metadata": {},
   "outputs": [],
   "source": [
    "# Show all songs from an album averaged out by a user-defined period\n",
    "def get_album_songs(album, period):\n",
    "    trial = df[df['album_name'] == album]\n",
    "    songs = trial['song'].unique()\n",
    "    a = trial.groupby('song').resample(period).mean()\n",
    "\n",
    "    fig = go.Figure()\n",
    "    for song in songs:\n",
    "        song_data = a.loc[song]\n",
    "        fig.add_trace(go.Scatter(x=song_data.index, y=song_data['rank'],\n",
    "                        mode='lines+markers', name=song))\n",
    "    #fig.update_yaxes(autorange=\"reversed\")\n",
    "    fig.update_yaxes(range=[100,1], tick0=1)\n",
    "    fig.update_layout(\n",
    "    title= '\"' + album + '\": Popularity Over Time',\n",
    "    yaxis_title=\"Billboard Hot 100 Ranking\",\n",
    "    xaxis_title=\"Date\",\n",
    "    legend_title=\"Ranked Songs In Album\",\n",
    ")\n",
    "    fig.write_html(\"reputation: popularity over time.html\")\n",
    "    fig.show()"
   ]
  },
  {
   "cell_type": "code",
   "execution_count": 36,
   "metadata": {},
   "outputs": [
    {
     "data": {
      "application/vnd.plotly.v1+json": {
       "config": {
        "plotlyServerURL": "https://plot.ly"
       },
       "data": [
        {
         "mode": "lines+markers",
         "name": "look what you made me do",
         "type": "scatter",
         "x": [
          "2017-09-10T00:00:00",
          "2017-09-17T00:00:00",
          "2017-09-24T00:00:00",
          "2017-10-01T00:00:00",
          "2017-10-08T00:00:00",
          "2017-10-15T00:00:00",
          "2017-10-22T00:00:00",
          "2017-10-29T00:00:00",
          "2017-11-05T00:00:00",
          "2017-11-12T00:00:00",
          "2017-11-19T00:00:00",
          "2017-11-26T00:00:00",
          "2017-12-03T00:00:00",
          "2017-12-10T00:00:00",
          "2017-12-17T00:00:00",
          "2017-12-24T00:00:00",
          "2017-12-31T00:00:00",
          "2018-01-07T00:00:00",
          "2018-01-14T00:00:00"
         ],
         "y": [
          77,
          1,
          1,
          1,
          3,
          3,
          5,
          4,
          10,
          25,
          34,
          37,
          31,
          44,
          60,
          72,
          70,
          76,
          55
         ]
        },
        {
         "mode": "lines+markers",
         "name": "...ready for it?",
         "type": "scatter",
         "x": [
          "2017-09-24T00:00:00",
          "2017-10-01T00:00:00",
          "2017-10-08T00:00:00",
          "2017-10-15T00:00:00",
          "2017-10-22T00:00:00",
          "2017-10-29T00:00:00",
          "2017-11-05T00:00:00",
          "2017-11-12T00:00:00",
          "2017-11-19T00:00:00",
          "2017-11-26T00:00:00",
          "2017-12-03T00:00:00",
          "2017-12-10T00:00:00",
          "2017-12-17T00:00:00",
          "2017-12-24T00:00:00",
          "2017-12-31T00:00:00",
          "2018-01-07T00:00:00",
          "2018-01-14T00:00:00",
          "2018-01-21T00:00:00",
          "2018-01-28T00:00:00"
         ],
         "y": [
          4,
          21,
          34,
          39,
          47,
          53,
          52,
          46,
          19,
          30,
          18,
          24,
          31,
          43,
          37,
          59,
          58,
          80,
          96
         ]
        },
        {
         "mode": "lines+markers",
         "name": "gorgeous",
         "type": "scatter",
         "x": [
          "2017-11-12T00:00:00",
          "2017-11-19T00:00:00",
          "2017-11-26T00:00:00",
          "2017-12-03T00:00:00"
         ],
         "y": [
          13,
          69,
          85,
          89
         ]
        },
        {
         "mode": "lines+markers",
         "name": "call it what you want",
         "type": "scatter",
         "x": [
          "2017-11-26T00:00:00",
          "2017-12-03T00:00:00"
         ],
         "y": [
          27,
          73
         ]
        },
        {
         "mode": "lines+markers",
         "name": "end game",
         "type": "scatter",
         "x": [
          "2017-12-10T00:00:00",
          "2017-12-17T00:00:00",
          "2017-12-24T00:00:00",
          "2017-12-31T00:00:00",
          "2018-01-07T00:00:00",
          "2018-01-14T00:00:00",
          "2018-01-21T00:00:00",
          "2018-01-28T00:00:00",
          "2018-02-04T00:00:00",
          "2018-02-11T00:00:00",
          "2018-02-18T00:00:00",
          "2018-02-25T00:00:00",
          "2018-03-04T00:00:00"
         ],
         "y": [
          86,
          83,
          39,
          49,
          42,
          39,
          36,
          18,
          30,
          43,
          45,
          65,
          91
         ]
        },
        {
         "mode": "lines+markers",
         "name": "delicate",
         "type": "scatter",
         "x": [
          "2018-03-25T00:00:00",
          "2018-04-01T00:00:00",
          "2018-04-08T00:00:00",
          "2018-04-15T00:00:00",
          "2018-04-22T00:00:00",
          "2018-04-29T00:00:00",
          "2018-05-06T00:00:00",
          "2018-05-13T00:00:00",
          "2018-05-20T00:00:00",
          "2018-05-27T00:00:00",
          "2018-06-03T00:00:00",
          "2018-06-10T00:00:00",
          "2018-06-17T00:00:00",
          "2018-06-24T00:00:00",
          "2018-07-01T00:00:00",
          "2018-07-08T00:00:00",
          "2018-07-15T00:00:00",
          "2018-07-22T00:00:00",
          "2018-07-29T00:00:00",
          "2018-08-05T00:00:00",
          "2018-08-12T00:00:00",
          "2018-08-19T00:00:00",
          "2018-08-26T00:00:00",
          "2018-09-02T00:00:00",
          "2018-09-09T00:00:00",
          "2018-09-16T00:00:00",
          "2018-09-23T00:00:00",
          "2018-09-30T00:00:00",
          "2018-10-07T00:00:00",
          "2018-10-14T00:00:00",
          "2018-10-21T00:00:00",
          "2018-10-28T00:00:00",
          "2018-11-04T00:00:00",
          "2018-11-11T00:00:00",
          "2018-11-18T00:00:00"
         ],
         "y": [
          84,
          66,
          52,
          46,
          54,
          51,
          52,
          56,
          46,
          36,
          34,
          28,
          37,
          25,
          27,
          20,
          23,
          15,
          12,
          12,
          13,
          17,
          16,
          19,
          25,
          29,
          25,
          27,
          29,
          37,
          33,
          34,
          38,
          43,
          49
         ]
        }
       ],
       "layout": {
        "legend": {
         "title": {
          "text": "Ranked Songs In Album"
         }
        },
        "template": {
         "data": {
          "bar": [
           {
            "error_x": {
             "color": "#2a3f5f"
            },
            "error_y": {
             "color": "#2a3f5f"
            },
            "marker": {
             "line": {
              "color": "white",
              "width": 0.5
             },
             "pattern": {
              "fillmode": "overlay",
              "size": 10,
              "solidity": 0.2
             }
            },
            "type": "bar"
           }
          ],
          "barpolar": [
           {
            "marker": {
             "line": {
              "color": "white",
              "width": 0.5
             },
             "pattern": {
              "fillmode": "overlay",
              "size": 10,
              "solidity": 0.2
             }
            },
            "type": "barpolar"
           }
          ],
          "carpet": [
           {
            "aaxis": {
             "endlinecolor": "#2a3f5f",
             "gridcolor": "#C8D4E3",
             "linecolor": "#C8D4E3",
             "minorgridcolor": "#C8D4E3",
             "startlinecolor": "#2a3f5f"
            },
            "baxis": {
             "endlinecolor": "#2a3f5f",
             "gridcolor": "#C8D4E3",
             "linecolor": "#C8D4E3",
             "minorgridcolor": "#C8D4E3",
             "startlinecolor": "#2a3f5f"
            },
            "type": "carpet"
           }
          ],
          "choropleth": [
           {
            "colorbar": {
             "outlinewidth": 0,
             "ticks": ""
            },
            "type": "choropleth"
           }
          ],
          "contour": [
           {
            "colorbar": {
             "outlinewidth": 0,
             "ticks": ""
            },
            "colorscale": [
             [
              0,
              "#0d0887"
             ],
             [
              0.1111111111111111,
              "#46039f"
             ],
             [
              0.2222222222222222,
              "#7201a8"
             ],
             [
              0.3333333333333333,
              "#9c179e"
             ],
             [
              0.4444444444444444,
              "#bd3786"
             ],
             [
              0.5555555555555556,
              "#d8576b"
             ],
             [
              0.6666666666666666,
              "#ed7953"
             ],
             [
              0.7777777777777778,
              "#fb9f3a"
             ],
             [
              0.8888888888888888,
              "#fdca26"
             ],
             [
              1,
              "#f0f921"
             ]
            ],
            "type": "contour"
           }
          ],
          "contourcarpet": [
           {
            "colorbar": {
             "outlinewidth": 0,
             "ticks": ""
            },
            "type": "contourcarpet"
           }
          ],
          "heatmap": [
           {
            "colorbar": {
             "outlinewidth": 0,
             "ticks": ""
            },
            "colorscale": [
             [
              0,
              "#0d0887"
             ],
             [
              0.1111111111111111,
              "#46039f"
             ],
             [
              0.2222222222222222,
              "#7201a8"
             ],
             [
              0.3333333333333333,
              "#9c179e"
             ],
             [
              0.4444444444444444,
              "#bd3786"
             ],
             [
              0.5555555555555556,
              "#d8576b"
             ],
             [
              0.6666666666666666,
              "#ed7953"
             ],
             [
              0.7777777777777778,
              "#fb9f3a"
             ],
             [
              0.8888888888888888,
              "#fdca26"
             ],
             [
              1,
              "#f0f921"
             ]
            ],
            "type": "heatmap"
           }
          ],
          "heatmapgl": [
           {
            "colorbar": {
             "outlinewidth": 0,
             "ticks": ""
            },
            "colorscale": [
             [
              0,
              "#0d0887"
             ],
             [
              0.1111111111111111,
              "#46039f"
             ],
             [
              0.2222222222222222,
              "#7201a8"
             ],
             [
              0.3333333333333333,
              "#9c179e"
             ],
             [
              0.4444444444444444,
              "#bd3786"
             ],
             [
              0.5555555555555556,
              "#d8576b"
             ],
             [
              0.6666666666666666,
              "#ed7953"
             ],
             [
              0.7777777777777778,
              "#fb9f3a"
             ],
             [
              0.8888888888888888,
              "#fdca26"
             ],
             [
              1,
              "#f0f921"
             ]
            ],
            "type": "heatmapgl"
           }
          ],
          "histogram": [
           {
            "marker": {
             "pattern": {
              "fillmode": "overlay",
              "size": 10,
              "solidity": 0.2
             }
            },
            "type": "histogram"
           }
          ],
          "histogram2d": [
           {
            "colorbar": {
             "outlinewidth": 0,
             "ticks": ""
            },
            "colorscale": [
             [
              0,
              "#0d0887"
             ],
             [
              0.1111111111111111,
              "#46039f"
             ],
             [
              0.2222222222222222,
              "#7201a8"
             ],
             [
              0.3333333333333333,
              "#9c179e"
             ],
             [
              0.4444444444444444,
              "#bd3786"
             ],
             [
              0.5555555555555556,
              "#d8576b"
             ],
             [
              0.6666666666666666,
              "#ed7953"
             ],
             [
              0.7777777777777778,
              "#fb9f3a"
             ],
             [
              0.8888888888888888,
              "#fdca26"
             ],
             [
              1,
              "#f0f921"
             ]
            ],
            "type": "histogram2d"
           }
          ],
          "histogram2dcontour": [
           {
            "colorbar": {
             "outlinewidth": 0,
             "ticks": ""
            },
            "colorscale": [
             [
              0,
              "#0d0887"
             ],
             [
              0.1111111111111111,
              "#46039f"
             ],
             [
              0.2222222222222222,
              "#7201a8"
             ],
             [
              0.3333333333333333,
              "#9c179e"
             ],
             [
              0.4444444444444444,
              "#bd3786"
             ],
             [
              0.5555555555555556,
              "#d8576b"
             ],
             [
              0.6666666666666666,
              "#ed7953"
             ],
             [
              0.7777777777777778,
              "#fb9f3a"
             ],
             [
              0.8888888888888888,
              "#fdca26"
             ],
             [
              1,
              "#f0f921"
             ]
            ],
            "type": "histogram2dcontour"
           }
          ],
          "mesh3d": [
           {
            "colorbar": {
             "outlinewidth": 0,
             "ticks": ""
            },
            "type": "mesh3d"
           }
          ],
          "parcoords": [
           {
            "line": {
             "colorbar": {
              "outlinewidth": 0,
              "ticks": ""
             }
            },
            "type": "parcoords"
           }
          ],
          "pie": [
           {
            "automargin": true,
            "type": "pie"
           }
          ],
          "scatter": [
           {
            "marker": {
             "colorbar": {
              "outlinewidth": 0,
              "ticks": ""
             }
            },
            "type": "scatter"
           }
          ],
          "scatter3d": [
           {
            "line": {
             "colorbar": {
              "outlinewidth": 0,
              "ticks": ""
             }
            },
            "marker": {
             "colorbar": {
              "outlinewidth": 0,
              "ticks": ""
             }
            },
            "type": "scatter3d"
           }
          ],
          "scattercarpet": [
           {
            "marker": {
             "colorbar": {
              "outlinewidth": 0,
              "ticks": ""
             }
            },
            "type": "scattercarpet"
           }
          ],
          "scattergeo": [
           {
            "marker": {
             "colorbar": {
              "outlinewidth": 0,
              "ticks": ""
             }
            },
            "type": "scattergeo"
           }
          ],
          "scattergl": [
           {
            "marker": {
             "colorbar": {
              "outlinewidth": 0,
              "ticks": ""
             }
            },
            "type": "scattergl"
           }
          ],
          "scattermapbox": [
           {
            "marker": {
             "colorbar": {
              "outlinewidth": 0,
              "ticks": ""
             }
            },
            "type": "scattermapbox"
           }
          ],
          "scatterpolar": [
           {
            "marker": {
             "colorbar": {
              "outlinewidth": 0,
              "ticks": ""
             }
            },
            "type": "scatterpolar"
           }
          ],
          "scatterpolargl": [
           {
            "marker": {
             "colorbar": {
              "outlinewidth": 0,
              "ticks": ""
             }
            },
            "type": "scatterpolargl"
           }
          ],
          "scatterternary": [
           {
            "marker": {
             "colorbar": {
              "outlinewidth": 0,
              "ticks": ""
             }
            },
            "type": "scatterternary"
           }
          ],
          "surface": [
           {
            "colorbar": {
             "outlinewidth": 0,
             "ticks": ""
            },
            "colorscale": [
             [
              0,
              "#0d0887"
             ],
             [
              0.1111111111111111,
              "#46039f"
             ],
             [
              0.2222222222222222,
              "#7201a8"
             ],
             [
              0.3333333333333333,
              "#9c179e"
             ],
             [
              0.4444444444444444,
              "#bd3786"
             ],
             [
              0.5555555555555556,
              "#d8576b"
             ],
             [
              0.6666666666666666,
              "#ed7953"
             ],
             [
              0.7777777777777778,
              "#fb9f3a"
             ],
             [
              0.8888888888888888,
              "#fdca26"
             ],
             [
              1,
              "#f0f921"
             ]
            ],
            "type": "surface"
           }
          ],
          "table": [
           {
            "cells": {
             "fill": {
              "color": "#EBF0F8"
             },
             "line": {
              "color": "white"
             }
            },
            "header": {
             "fill": {
              "color": "#C8D4E3"
             },
             "line": {
              "color": "white"
             }
            },
            "type": "table"
           }
          ]
         },
         "layout": {
          "annotationdefaults": {
           "arrowcolor": "#2a3f5f",
           "arrowhead": 0,
           "arrowwidth": 1
          },
          "autotypenumbers": "strict",
          "coloraxis": {
           "colorbar": {
            "outlinewidth": 0,
            "ticks": ""
           }
          },
          "colorscale": {
           "diverging": [
            [
             0,
             "#8e0152"
            ],
            [
             0.1,
             "#c51b7d"
            ],
            [
             0.2,
             "#de77ae"
            ],
            [
             0.3,
             "#f1b6da"
            ],
            [
             0.4,
             "#fde0ef"
            ],
            [
             0.5,
             "#f7f7f7"
            ],
            [
             0.6,
             "#e6f5d0"
            ],
            [
             0.7,
             "#b8e186"
            ],
            [
             0.8,
             "#7fbc41"
            ],
            [
             0.9,
             "#4d9221"
            ],
            [
             1,
             "#276419"
            ]
           ],
           "sequential": [
            [
             0,
             "#0d0887"
            ],
            [
             0.1111111111111111,
             "#46039f"
            ],
            [
             0.2222222222222222,
             "#7201a8"
            ],
            [
             0.3333333333333333,
             "#9c179e"
            ],
            [
             0.4444444444444444,
             "#bd3786"
            ],
            [
             0.5555555555555556,
             "#d8576b"
            ],
            [
             0.6666666666666666,
             "#ed7953"
            ],
            [
             0.7777777777777778,
             "#fb9f3a"
            ],
            [
             0.8888888888888888,
             "#fdca26"
            ],
            [
             1,
             "#f0f921"
            ]
           ],
           "sequentialminus": [
            [
             0,
             "#0d0887"
            ],
            [
             0.1111111111111111,
             "#46039f"
            ],
            [
             0.2222222222222222,
             "#7201a8"
            ],
            [
             0.3333333333333333,
             "#9c179e"
            ],
            [
             0.4444444444444444,
             "#bd3786"
            ],
            [
             0.5555555555555556,
             "#d8576b"
            ],
            [
             0.6666666666666666,
             "#ed7953"
            ],
            [
             0.7777777777777778,
             "#fb9f3a"
            ],
            [
             0.8888888888888888,
             "#fdca26"
            ],
            [
             1,
             "#f0f921"
            ]
           ]
          },
          "colorway": [
           "#636efa",
           "#EF553B",
           "#00cc96",
           "#ab63fa",
           "#FFA15A",
           "#19d3f3",
           "#FF6692",
           "#B6E880",
           "#FF97FF",
           "#FECB52"
          ],
          "font": {
           "color": "#2a3f5f"
          },
          "geo": {
           "bgcolor": "white",
           "lakecolor": "white",
           "landcolor": "white",
           "showlakes": true,
           "showland": true,
           "subunitcolor": "#C8D4E3"
          },
          "hoverlabel": {
           "align": "left"
          },
          "hovermode": "closest",
          "mapbox": {
           "style": "light"
          },
          "paper_bgcolor": "white",
          "plot_bgcolor": "white",
          "polar": {
           "angularaxis": {
            "gridcolor": "#EBF0F8",
            "linecolor": "#EBF0F8",
            "ticks": ""
           },
           "bgcolor": "white",
           "radialaxis": {
            "gridcolor": "#EBF0F8",
            "linecolor": "#EBF0F8",
            "ticks": ""
           }
          },
          "scene": {
           "xaxis": {
            "backgroundcolor": "white",
            "gridcolor": "#DFE8F3",
            "gridwidth": 2,
            "linecolor": "#EBF0F8",
            "showbackground": true,
            "ticks": "",
            "zerolinecolor": "#EBF0F8"
           },
           "yaxis": {
            "backgroundcolor": "white",
            "gridcolor": "#DFE8F3",
            "gridwidth": 2,
            "linecolor": "#EBF0F8",
            "showbackground": true,
            "ticks": "",
            "zerolinecolor": "#EBF0F8"
           },
           "zaxis": {
            "backgroundcolor": "white",
            "gridcolor": "#DFE8F3",
            "gridwidth": 2,
            "linecolor": "#EBF0F8",
            "showbackground": true,
            "ticks": "",
            "zerolinecolor": "#EBF0F8"
           }
          },
          "shapedefaults": {
           "line": {
            "color": "#2a3f5f"
           }
          },
          "ternary": {
           "aaxis": {
            "gridcolor": "#DFE8F3",
            "linecolor": "#A2B1C6",
            "ticks": ""
           },
           "baxis": {
            "gridcolor": "#DFE8F3",
            "linecolor": "#A2B1C6",
            "ticks": ""
           },
           "bgcolor": "white",
           "caxis": {
            "gridcolor": "#DFE8F3",
            "linecolor": "#A2B1C6",
            "ticks": ""
           }
          },
          "title": {
           "x": 0.05
          },
          "xaxis": {
           "automargin": true,
           "gridcolor": "#EBF0F8",
           "linecolor": "#EBF0F8",
           "ticks": "",
           "title": {
            "standoff": 15
           },
           "zerolinecolor": "#EBF0F8",
           "zerolinewidth": 2
          },
          "yaxis": {
           "automargin": true,
           "gridcolor": "#EBF0F8",
           "linecolor": "#EBF0F8",
           "ticks": "",
           "title": {
            "standoff": 15
           },
           "zerolinecolor": "#EBF0F8",
           "zerolinewidth": 2
          }
         }
        },
        "title": {
         "text": "\"reputation\": Popularity Over Time"
        },
        "xaxis": {
         "title": {
          "text": "Date"
         }
        },
        "yaxis": {
         "range": [
          100,
          1
         ],
         "tick0": 1,
         "title": {
          "text": "Billboard Hot 100 Ranking"
         }
        }
       }
      }
     },
     "metadata": {},
     "output_type": "display_data"
    }
   ],
   "source": [
    "get_album_songs('reputation', 'W')"
   ]
  },
  {
   "cell_type": "code",
   "execution_count": 27,
   "metadata": {},
   "outputs": [
    {
     "data": {
      "application/vnd.plotly.v1+json": {
       "config": {
        "plotlyServerURL": "https://plot.ly"
       },
       "data": [
        {
         "alignmentgroup": "True",
         "bingroup": "y",
         "hovertemplate": "album_name=Taylor Swift<br>count=%{x}<br>song=%{y}<extra></extra>",
         "legendgroup": "Taylor Swift",
         "marker": {
          "color": "#4BA1C7",
          "pattern": {
           "shape": ""
          }
         },
         "name": "Taylor Swift",
         "offsetgroup": "Taylor Swift",
         "orientation": "h",
         "showlegend": true,
         "type": "histogram",
         "xaxis": "x",
         "y": [
          "teardrops on my guitar",
          "teardrops on my guitar",
          "teardrops on my guitar",
          "teardrops on my guitar",
          "teardrops on my guitar",
          "teardrops on my guitar",
          "teardrops on my guitar",
          "teardrops on my guitar",
          "teardrops on my guitar",
          "teardrops on my guitar",
          "teardrops on my guitar",
          "teardrops on my guitar",
          "teardrops on my guitar",
          "teardrops on my guitar",
          "teardrops on my guitar",
          "teardrops on my guitar",
          "teardrops on my guitar",
          "teardrops on my guitar",
          "teardrops on my guitar",
          "teardrops on my guitar",
          "teardrops on my guitar",
          "teardrops on my guitar",
          "teardrops on my guitar",
          "teardrops on my guitar",
          "teardrops on my guitar",
          "our song",
          "our song",
          "our song",
          "our song",
          "our song",
          "our song",
          "our song",
          "our song",
          "our song",
          "teardrops on my guitar",
          "our song",
          "teardrops on my guitar",
          "our song",
          "teardrops on my guitar",
          "our song",
          "teardrops on my guitar",
          "our song",
          "teardrops on my guitar",
          "our song",
          "teardrops on my guitar",
          "our song",
          "teardrops on my guitar",
          "our song",
          "teardrops on my guitar",
          "our song",
          "teardrops on my guitar",
          "our song",
          "teardrops on my guitar",
          "our song",
          "teardrops on my guitar",
          "our song",
          "teardrops on my guitar",
          "our song",
          "teardrops on my guitar",
          "our song",
          "teardrops on my guitar",
          "our song",
          "teardrops on my guitar",
          "our song",
          "teardrops on my guitar",
          "our song",
          "teardrops on my guitar",
          "our song",
          "teardrops on my guitar",
          "our song",
          "teardrops on my guitar",
          "our song",
          "teardrops on my guitar",
          "our song",
          "teardrops on my guitar",
          "our song",
          "teardrops on my guitar",
          "our song",
          "teardrops on my guitar",
          "our song",
          "our song",
          "our song",
          "our song",
          "our song"
         ],
         "yaxis": "y"
        },
        {
         "alignmentgroup": "True",
         "bingroup": "y",
         "hovertemplate": "album_name=Fearless<br>count=%{x}<br>song=%{y}<extra></extra>",
         "legendgroup": "Fearless",
         "marker": {
          "color": "#C9B079",
          "pattern": {
           "shape": ""
          }
         },
         "name": "Fearless",
         "offsetgroup": "Fearless",
         "orientation": "h",
         "showlegend": true,
         "type": "histogram",
         "xaxis": "x",
         "y": [
          "love story",
          "love story",
          "love story",
          "love story",
          "love story",
          "love story",
          "love story",
          "love story",
          "love story",
          "you belong with me",
          "love story",
          "love story",
          "love story",
          "love story",
          "love story",
          "love story",
          "love story",
          "love story",
          "love story",
          "love story",
          "love story",
          "love story",
          "love story",
          "love story",
          "love story",
          "love story",
          "love story",
          "love story",
          "love story",
          "love story",
          "love story",
          "love story",
          "love story",
          "love story",
          "love story",
          "you belong with me",
          "love story",
          "you belong with me",
          "love story",
          "you belong with me",
          "love story",
          "you belong with me",
          "love story",
          "you belong with me",
          "love story",
          "you belong with me",
          "love story",
          "you belong with me",
          "love story",
          "you belong with me",
          "love story",
          "you belong with me",
          "love story",
          "you belong with me",
          "love story",
          "you belong with me",
          "love story",
          "you belong with me",
          "love story",
          "you belong with me",
          "love story",
          "you belong with me",
          "love story",
          "you belong with me",
          "love story",
          "you belong with me",
          "you belong with me",
          "you belong with me",
          "you belong with me",
          "you belong with me",
          "you belong with me",
          "you belong with me",
          "you belong with me",
          "you belong with me",
          "you belong with me",
          "you belong with me",
          "you belong with me",
          "you belong with me",
          "you belong with me",
          "you belong with me",
          "you belong with me",
          "you belong with me",
          "you belong with me",
          "you belong with me",
          "you belong with me",
          "you belong with me",
          "you belong with me",
          "you belong with me",
          "you belong with me",
          "you belong with me",
          "you belong with me",
          "you belong with me",
          "you belong with me",
          "you belong with me",
          "you belong with me",
          "you belong with me",
          "you belong with me",
          "you belong with me",
          "you belong with me"
         ],
         "yaxis": "y"
        },
        {
         "alignmentgroup": "True",
         "bingroup": "y",
         "hovertemplate": "album_name=Red<br>count=%{x}<br>song=%{y}<extra></extra>",
         "legendgroup": "Red",
         "marker": {
          "color": "#a71f1f",
          "pattern": {
           "shape": ""
          }
         },
         "name": "Red",
         "offsetgroup": "Red",
         "orientation": "h",
         "showlegend": true,
         "type": "histogram",
         "xaxis": "x",
         "y": [
          "i knew you were trouble.",
          "i knew you were trouble.",
          "i knew you were trouble.",
          "i knew you were trouble.",
          "i knew you were trouble.",
          "i knew you were trouble.",
          "i knew you were trouble.",
          "i knew you were trouble.",
          "i knew you were trouble.",
          "i knew you were trouble.",
          "i knew you were trouble.",
          "i knew you were trouble.",
          "i knew you were trouble.",
          "i knew you were trouble.",
          "i knew you were trouble.",
          "i knew you were trouble.",
          "i knew you were trouble.",
          "i knew you were trouble.",
          "i knew you were trouble.",
          "i knew you were trouble.",
          "i knew you were trouble.",
          "i knew you were trouble.",
          "i knew you were trouble.",
          "i knew you were trouble.",
          "i knew you were trouble.",
          "i knew you were trouble.",
          "i knew you were trouble.",
          "i knew you were trouble.",
          "i knew you were trouble.",
          "i knew you were trouble.",
          "i knew you were trouble.",
          "i knew you were trouble.",
          "i knew you were trouble.",
          "i knew you were trouble.",
          "i knew you were trouble.",
          "i knew you were trouble."
         ],
         "yaxis": "y"
        },
        {
         "alignmentgroup": "True",
         "bingroup": "y",
         "hovertemplate": "album_name=1989<br>count=%{x}<br>song=%{y}<extra></extra>",
         "legendgroup": "1989",
         "marker": {
          "color": "#C5b5d4",
          "pattern": {
           "shape": ""
          }
         },
         "name": "1989",
         "offsetgroup": "1989",
         "orientation": "h",
         "showlegend": true,
         "type": "histogram",
         "xaxis": "x",
         "y": [
          "shake it off",
          "shake it off",
          "shake it off",
          "shake it off",
          "shake it off",
          "shake it off",
          "shake it off",
          "shake it off",
          "shake it off",
          "shake it off",
          "blank space",
          "style",
          "shake it off",
          "wildest dreams",
          "blank space",
          "shake it off",
          "blank space",
          "shake it off",
          "blank space",
          "shake it off",
          "blank space",
          "shake it off",
          "blank space",
          "shake it off",
          "blank space",
          "style",
          "shake it off",
          "blank space",
          "shake it off",
          "blank space",
          "style",
          "shake it off",
          "blank space",
          "style",
          "shake it off",
          "blank space",
          "style",
          "shake it off",
          "blank space",
          "style",
          "shake it off",
          "blank space",
          "style",
          "shake it off",
          "blank space",
          "style",
          "shake it off",
          "blank space",
          "style",
          "shake it off",
          "blank space",
          "style",
          "shake it off",
          "blank space",
          "style",
          "shake it off",
          "blank space",
          "style",
          "shake it off",
          "blank space",
          "style",
          "shake it off",
          "blank space",
          "style",
          "shake it off",
          "blank space",
          "style",
          "shake it off",
          "blank space",
          "style",
          "shake it off",
          "blank space",
          "style",
          "shake it off",
          "blank space",
          "style",
          "shake it off",
          "blank space",
          "style",
          "shake it off",
          "blank space",
          "style",
          "shake it off",
          "blank space",
          "style",
          "shake it off",
          "blank space",
          "style",
          "shake it off",
          "blank space",
          "style",
          "shake it off",
          "blank space",
          "style",
          "shake it off",
          "blank space",
          "style",
          "shake it off",
          "blank space",
          "style",
          "shake it off",
          "blank space",
          "style",
          "shake it off",
          "blank space",
          "style",
          "shake it off",
          "blank space",
          "style",
          "shake it off",
          "blank space",
          "style",
          "shake it off",
          "style",
          "shake it off",
          "style",
          "shake it off",
          "shake it off",
          "shake it off",
          "wildest dreams",
          "wildest dreams",
          "wildest dreams",
          "wildest dreams",
          "wildest dreams",
          "wildest dreams",
          "wildest dreams",
          "wildest dreams",
          "wildest dreams",
          "wildest dreams",
          "wildest dreams",
          "wildest dreams",
          "wildest dreams",
          "wildest dreams",
          "wildest dreams",
          "wildest dreams",
          "wildest dreams",
          "wildest dreams",
          "wildest dreams",
          "wildest dreams",
          "wildest dreams",
          "wildest dreams",
          "wildest dreams",
          "wildest dreams",
          "wildest dreams",
          "wildest dreams"
         ],
         "yaxis": "y"
        },
        {
         "alignmentgroup": "True",
         "bingroup": "y",
         "hovertemplate": "album_name=reputation<br>count=%{x}<br>song=%{y}<extra></extra>",
         "legendgroup": "reputation",
         "marker": {
          "color": "#000000",
          "pattern": {
           "shape": ""
          }
         },
         "name": "reputation",
         "offsetgroup": "reputation",
         "orientation": "h",
         "showlegend": true,
         "type": "histogram",
         "xaxis": "x",
         "y": [
          "delicate",
          "delicate",
          "delicate",
          "delicate",
          "delicate",
          "delicate",
          "delicate",
          "delicate",
          "delicate",
          "delicate",
          "delicate",
          "delicate",
          "delicate",
          "delicate",
          "delicate",
          "delicate",
          "delicate",
          "delicate",
          "delicate",
          "delicate",
          "delicate",
          "delicate",
          "delicate",
          "delicate",
          "delicate",
          "delicate",
          "delicate",
          "delicate",
          "delicate",
          "delicate",
          "delicate",
          "delicate",
          "delicate",
          "delicate",
          "delicate"
         ],
         "yaxis": "y"
        }
       ],
       "layout": {
        "barmode": "relative",
        "legend": {
         "title": {
          "text": "Album Name"
         },
         "tracegroupgap": 0
        },
        "margin": {
         "t": 60
        },
        "template": {
         "data": {
          "bar": [
           {
            "error_x": {
             "color": "#2a3f5f"
            },
            "error_y": {
             "color": "#2a3f5f"
            },
            "marker": {
             "line": {
              "color": "white",
              "width": 0.5
             },
             "pattern": {
              "fillmode": "overlay",
              "size": 10,
              "solidity": 0.2
             }
            },
            "type": "bar"
           }
          ],
          "barpolar": [
           {
            "marker": {
             "line": {
              "color": "white",
              "width": 0.5
             },
             "pattern": {
              "fillmode": "overlay",
              "size": 10,
              "solidity": 0.2
             }
            },
            "type": "barpolar"
           }
          ],
          "carpet": [
           {
            "aaxis": {
             "endlinecolor": "#2a3f5f",
             "gridcolor": "#C8D4E3",
             "linecolor": "#C8D4E3",
             "minorgridcolor": "#C8D4E3",
             "startlinecolor": "#2a3f5f"
            },
            "baxis": {
             "endlinecolor": "#2a3f5f",
             "gridcolor": "#C8D4E3",
             "linecolor": "#C8D4E3",
             "minorgridcolor": "#C8D4E3",
             "startlinecolor": "#2a3f5f"
            },
            "type": "carpet"
           }
          ],
          "choropleth": [
           {
            "colorbar": {
             "outlinewidth": 0,
             "ticks": ""
            },
            "type": "choropleth"
           }
          ],
          "contour": [
           {
            "colorbar": {
             "outlinewidth": 0,
             "ticks": ""
            },
            "colorscale": [
             [
              0,
              "#0d0887"
             ],
             [
              0.1111111111111111,
              "#46039f"
             ],
             [
              0.2222222222222222,
              "#7201a8"
             ],
             [
              0.3333333333333333,
              "#9c179e"
             ],
             [
              0.4444444444444444,
              "#bd3786"
             ],
             [
              0.5555555555555556,
              "#d8576b"
             ],
             [
              0.6666666666666666,
              "#ed7953"
             ],
             [
              0.7777777777777778,
              "#fb9f3a"
             ],
             [
              0.8888888888888888,
              "#fdca26"
             ],
             [
              1,
              "#f0f921"
             ]
            ],
            "type": "contour"
           }
          ],
          "contourcarpet": [
           {
            "colorbar": {
             "outlinewidth": 0,
             "ticks": ""
            },
            "type": "contourcarpet"
           }
          ],
          "heatmap": [
           {
            "colorbar": {
             "outlinewidth": 0,
             "ticks": ""
            },
            "colorscale": [
             [
              0,
              "#0d0887"
             ],
             [
              0.1111111111111111,
              "#46039f"
             ],
             [
              0.2222222222222222,
              "#7201a8"
             ],
             [
              0.3333333333333333,
              "#9c179e"
             ],
             [
              0.4444444444444444,
              "#bd3786"
             ],
             [
              0.5555555555555556,
              "#d8576b"
             ],
             [
              0.6666666666666666,
              "#ed7953"
             ],
             [
              0.7777777777777778,
              "#fb9f3a"
             ],
             [
              0.8888888888888888,
              "#fdca26"
             ],
             [
              1,
              "#f0f921"
             ]
            ],
            "type": "heatmap"
           }
          ],
          "heatmapgl": [
           {
            "colorbar": {
             "outlinewidth": 0,
             "ticks": ""
            },
            "colorscale": [
             [
              0,
              "#0d0887"
             ],
             [
              0.1111111111111111,
              "#46039f"
             ],
             [
              0.2222222222222222,
              "#7201a8"
             ],
             [
              0.3333333333333333,
              "#9c179e"
             ],
             [
              0.4444444444444444,
              "#bd3786"
             ],
             [
              0.5555555555555556,
              "#d8576b"
             ],
             [
              0.6666666666666666,
              "#ed7953"
             ],
             [
              0.7777777777777778,
              "#fb9f3a"
             ],
             [
              0.8888888888888888,
              "#fdca26"
             ],
             [
              1,
              "#f0f921"
             ]
            ],
            "type": "heatmapgl"
           }
          ],
          "histogram": [
           {
            "marker": {
             "pattern": {
              "fillmode": "overlay",
              "size": 10,
              "solidity": 0.2
             }
            },
            "type": "histogram"
           }
          ],
          "histogram2d": [
           {
            "colorbar": {
             "outlinewidth": 0,
             "ticks": ""
            },
            "colorscale": [
             [
              0,
              "#0d0887"
             ],
             [
              0.1111111111111111,
              "#46039f"
             ],
             [
              0.2222222222222222,
              "#7201a8"
             ],
             [
              0.3333333333333333,
              "#9c179e"
             ],
             [
              0.4444444444444444,
              "#bd3786"
             ],
             [
              0.5555555555555556,
              "#d8576b"
             ],
             [
              0.6666666666666666,
              "#ed7953"
             ],
             [
              0.7777777777777778,
              "#fb9f3a"
             ],
             [
              0.8888888888888888,
              "#fdca26"
             ],
             [
              1,
              "#f0f921"
             ]
            ],
            "type": "histogram2d"
           }
          ],
          "histogram2dcontour": [
           {
            "colorbar": {
             "outlinewidth": 0,
             "ticks": ""
            },
            "colorscale": [
             [
              0,
              "#0d0887"
             ],
             [
              0.1111111111111111,
              "#46039f"
             ],
             [
              0.2222222222222222,
              "#7201a8"
             ],
             [
              0.3333333333333333,
              "#9c179e"
             ],
             [
              0.4444444444444444,
              "#bd3786"
             ],
             [
              0.5555555555555556,
              "#d8576b"
             ],
             [
              0.6666666666666666,
              "#ed7953"
             ],
             [
              0.7777777777777778,
              "#fb9f3a"
             ],
             [
              0.8888888888888888,
              "#fdca26"
             ],
             [
              1,
              "#f0f921"
             ]
            ],
            "type": "histogram2dcontour"
           }
          ],
          "mesh3d": [
           {
            "colorbar": {
             "outlinewidth": 0,
             "ticks": ""
            },
            "type": "mesh3d"
           }
          ],
          "parcoords": [
           {
            "line": {
             "colorbar": {
              "outlinewidth": 0,
              "ticks": ""
             }
            },
            "type": "parcoords"
           }
          ],
          "pie": [
           {
            "automargin": true,
            "type": "pie"
           }
          ],
          "scatter": [
           {
            "marker": {
             "colorbar": {
              "outlinewidth": 0,
              "ticks": ""
             }
            },
            "type": "scatter"
           }
          ],
          "scatter3d": [
           {
            "line": {
             "colorbar": {
              "outlinewidth": 0,
              "ticks": ""
             }
            },
            "marker": {
             "colorbar": {
              "outlinewidth": 0,
              "ticks": ""
             }
            },
            "type": "scatter3d"
           }
          ],
          "scattercarpet": [
           {
            "marker": {
             "colorbar": {
              "outlinewidth": 0,
              "ticks": ""
             }
            },
            "type": "scattercarpet"
           }
          ],
          "scattergeo": [
           {
            "marker": {
             "colorbar": {
              "outlinewidth": 0,
              "ticks": ""
             }
            },
            "type": "scattergeo"
           }
          ],
          "scattergl": [
           {
            "marker": {
             "colorbar": {
              "outlinewidth": 0,
              "ticks": ""
             }
            },
            "type": "scattergl"
           }
          ],
          "scattermapbox": [
           {
            "marker": {
             "colorbar": {
              "outlinewidth": 0,
              "ticks": ""
             }
            },
            "type": "scattermapbox"
           }
          ],
          "scatterpolar": [
           {
            "marker": {
             "colorbar": {
              "outlinewidth": 0,
              "ticks": ""
             }
            },
            "type": "scatterpolar"
           }
          ],
          "scatterpolargl": [
           {
            "marker": {
             "colorbar": {
              "outlinewidth": 0,
              "ticks": ""
             }
            },
            "type": "scatterpolargl"
           }
          ],
          "scatterternary": [
           {
            "marker": {
             "colorbar": {
              "outlinewidth": 0,
              "ticks": ""
             }
            },
            "type": "scatterternary"
           }
          ],
          "surface": [
           {
            "colorbar": {
             "outlinewidth": 0,
             "ticks": ""
            },
            "colorscale": [
             [
              0,
              "#0d0887"
             ],
             [
              0.1111111111111111,
              "#46039f"
             ],
             [
              0.2222222222222222,
              "#7201a8"
             ],
             [
              0.3333333333333333,
              "#9c179e"
             ],
             [
              0.4444444444444444,
              "#bd3786"
             ],
             [
              0.5555555555555556,
              "#d8576b"
             ],
             [
              0.6666666666666666,
              "#ed7953"
             ],
             [
              0.7777777777777778,
              "#fb9f3a"
             ],
             [
              0.8888888888888888,
              "#fdca26"
             ],
             [
              1,
              "#f0f921"
             ]
            ],
            "type": "surface"
           }
          ],
          "table": [
           {
            "cells": {
             "fill": {
              "color": "#EBF0F8"
             },
             "line": {
              "color": "white"
             }
            },
            "header": {
             "fill": {
              "color": "#C8D4E3"
             },
             "line": {
              "color": "white"
             }
            },
            "type": "table"
           }
          ]
         },
         "layout": {
          "annotationdefaults": {
           "arrowcolor": "#2a3f5f",
           "arrowhead": 0,
           "arrowwidth": 1
          },
          "autotypenumbers": "strict",
          "coloraxis": {
           "colorbar": {
            "outlinewidth": 0,
            "ticks": ""
           }
          },
          "colorscale": {
           "diverging": [
            [
             0,
             "#8e0152"
            ],
            [
             0.1,
             "#c51b7d"
            ],
            [
             0.2,
             "#de77ae"
            ],
            [
             0.3,
             "#f1b6da"
            ],
            [
             0.4,
             "#fde0ef"
            ],
            [
             0.5,
             "#f7f7f7"
            ],
            [
             0.6,
             "#e6f5d0"
            ],
            [
             0.7,
             "#b8e186"
            ],
            [
             0.8,
             "#7fbc41"
            ],
            [
             0.9,
             "#4d9221"
            ],
            [
             1,
             "#276419"
            ]
           ],
           "sequential": [
            [
             0,
             "#0d0887"
            ],
            [
             0.1111111111111111,
             "#46039f"
            ],
            [
             0.2222222222222222,
             "#7201a8"
            ],
            [
             0.3333333333333333,
             "#9c179e"
            ],
            [
             0.4444444444444444,
             "#bd3786"
            ],
            [
             0.5555555555555556,
             "#d8576b"
            ],
            [
             0.6666666666666666,
             "#ed7953"
            ],
            [
             0.7777777777777778,
             "#fb9f3a"
            ],
            [
             0.8888888888888888,
             "#fdca26"
            ],
            [
             1,
             "#f0f921"
            ]
           ],
           "sequentialminus": [
            [
             0,
             "#0d0887"
            ],
            [
             0.1111111111111111,
             "#46039f"
            ],
            [
             0.2222222222222222,
             "#7201a8"
            ],
            [
             0.3333333333333333,
             "#9c179e"
            ],
            [
             0.4444444444444444,
             "#bd3786"
            ],
            [
             0.5555555555555556,
             "#d8576b"
            ],
            [
             0.6666666666666666,
             "#ed7953"
            ],
            [
             0.7777777777777778,
             "#fb9f3a"
            ],
            [
             0.8888888888888888,
             "#fdca26"
            ],
            [
             1,
             "#f0f921"
            ]
           ]
          },
          "colorway": [
           "#636efa",
           "#EF553B",
           "#00cc96",
           "#ab63fa",
           "#FFA15A",
           "#19d3f3",
           "#FF6692",
           "#B6E880",
           "#FF97FF",
           "#FECB52"
          ],
          "font": {
           "color": "#2a3f5f"
          },
          "geo": {
           "bgcolor": "white",
           "lakecolor": "white",
           "landcolor": "white",
           "showlakes": true,
           "showland": true,
           "subunitcolor": "#C8D4E3"
          },
          "hoverlabel": {
           "align": "left"
          },
          "hovermode": "closest",
          "mapbox": {
           "style": "light"
          },
          "paper_bgcolor": "white",
          "plot_bgcolor": "white",
          "polar": {
           "angularaxis": {
            "gridcolor": "#EBF0F8",
            "linecolor": "#EBF0F8",
            "ticks": ""
           },
           "bgcolor": "white",
           "radialaxis": {
            "gridcolor": "#EBF0F8",
            "linecolor": "#EBF0F8",
            "ticks": ""
           }
          },
          "scene": {
           "xaxis": {
            "backgroundcolor": "white",
            "gridcolor": "#DFE8F3",
            "gridwidth": 2,
            "linecolor": "#EBF0F8",
            "showbackground": true,
            "ticks": "",
            "zerolinecolor": "#EBF0F8"
           },
           "yaxis": {
            "backgroundcolor": "white",
            "gridcolor": "#DFE8F3",
            "gridwidth": 2,
            "linecolor": "#EBF0F8",
            "showbackground": true,
            "ticks": "",
            "zerolinecolor": "#EBF0F8"
           },
           "zaxis": {
            "backgroundcolor": "white",
            "gridcolor": "#DFE8F3",
            "gridwidth": 2,
            "linecolor": "#EBF0F8",
            "showbackground": true,
            "ticks": "",
            "zerolinecolor": "#EBF0F8"
           }
          },
          "shapedefaults": {
           "line": {
            "color": "#2a3f5f"
           }
          },
          "ternary": {
           "aaxis": {
            "gridcolor": "#DFE8F3",
            "linecolor": "#A2B1C6",
            "ticks": ""
           },
           "baxis": {
            "gridcolor": "#DFE8F3",
            "linecolor": "#A2B1C6",
            "ticks": ""
           },
           "bgcolor": "white",
           "caxis": {
            "gridcolor": "#DFE8F3",
            "linecolor": "#A2B1C6",
            "ticks": ""
           }
          },
          "title": {
           "x": 0.05
          },
          "xaxis": {
           "automargin": true,
           "gridcolor": "#EBF0F8",
           "linecolor": "#EBF0F8",
           "ticks": "",
           "title": {
            "standoff": 15
           },
           "zerolinecolor": "#EBF0F8",
           "zerolinewidth": 2
          },
          "yaxis": {
           "automargin": true,
           "gridcolor": "#EBF0F8",
           "linecolor": "#EBF0F8",
           "ticks": "",
           "title": {
            "standoff": 15
           },
           "zerolinecolor": "#EBF0F8",
           "zerolinewidth": 2
          }
         }
        },
        "title": {
         "text": "Songs Featured the Most in the Billboard Hot 100"
        },
        "xaxis": {
         "anchor": "y",
         "domain": [
          0,
          1
         ],
         "title": {
          "text": "Song"
         }
        },
        "yaxis": {
         "anchor": "x",
         "categoryorder": "total descending",
         "domain": [
          0,
          1
         ],
         "title": {
          "text": "Times Featured in the Billboard Hot 100"
         }
        }
       }
      }
     },
     "metadata": {},
     "output_type": "display_data"
    }
   ],
   "source": [
    "# get the most featured songs\n",
    "df1 = df.copy()\n",
    "sorter = df1['song'].value_counts().iloc[:10].index.tolist() \n",
    "df1.song = df1.song.astype(\"category\")\n",
    "df1.song = df1.song.cat.set_categories(sorter)\n",
    "df1 = df1.dropna()\n",
    "\n",
    "fig = px.histogram(df1, y='song', color = 'album_name', color_discrete_map=album_colors)\n",
    "fig.update_layout(\n",
    "yaxis_categoryorder='total descending',\n",
    "title='Songs Featured the Most in the Billboard Hot 100',\n",
    "xaxis_title='Song',\n",
    "yaxis_title='Times Featured in the Billboard Hot 100',\n",
    "legend_title='Album Name')\n",
    "fig.write_html(\"Songs Featured the Most in the Billboard Hot 100.html\")\n",
    "fig.show()"
   ]
  },
  {
   "cell_type": "code",
   "execution_count": 26,
   "metadata": {},
   "outputs": [
    {
     "data": {
      "application/vnd.plotly.v1+json": {
       "config": {
        "plotlyServerURL": "https://plot.ly"
       },
       "data": [
        {
         "alignmentgroup": "True",
         "bingroup": "x",
         "hovertemplate": "album_name=Red<br>song=%{x}<br>count=%{y}<extra></extra>",
         "legendgroup": "Red",
         "marker": {
          "color": "#a71f1f",
          "pattern": {
           "shape": ""
          }
         },
         "name": "Red",
         "offsetgroup": "Red",
         "orientation": "v",
         "showlegend": true,
         "type": "histogram",
         "x": [
          "we are never ever getting back together",
          "we are never ever getting back together",
          "we are never ever getting back together"
         ],
         "xaxis": "x",
         "yaxis": "y"
        },
        {
         "alignmentgroup": "True",
         "bingroup": "x",
         "hovertemplate": "album_name=1989<br>song=%{x}<br>count=%{y}<extra></extra>",
         "legendgroup": "1989",
         "marker": {
          "color": "#C5b5d4",
          "pattern": {
           "shape": ""
          }
         },
         "name": "1989",
         "offsetgroup": "1989",
         "orientation": "v",
         "showlegend": true,
         "type": "histogram",
         "x": [
          "shake it off",
          "shake it off",
          "shake it off",
          "shake it off",
          "blank space",
          "blank space",
          "blank space",
          "blank space",
          "blank space",
          "blank space",
          "blank space",
          "bad blood"
         ],
         "xaxis": "x",
         "yaxis": "y"
        },
        {
         "alignmentgroup": "True",
         "bingroup": "x",
         "hovertemplate": "album_name=reputation<br>song=%{x}<br>count=%{y}<extra></extra>",
         "legendgroup": "reputation",
         "marker": {
          "color": "#000000",
          "pattern": {
           "shape": ""
          }
         },
         "name": "reputation",
         "offsetgroup": "reputation",
         "orientation": "v",
         "showlegend": true,
         "type": "histogram",
         "x": [
          "look what you made me do",
          "look what you made me do",
          "look what you made me do"
         ],
         "xaxis": "x",
         "yaxis": "y"
        },
        {
         "alignmentgroup": "True",
         "bingroup": "x",
         "hovertemplate": "album_name=folklore<br>song=%{x}<br>count=%{y}<extra></extra>",
         "legendgroup": "folklore",
         "marker": {
          "color": "#CBCBCB",
          "pattern": {
           "shape": ""
          }
         },
         "name": "folklore",
         "offsetgroup": "folklore",
         "orientation": "v",
         "showlegend": true,
         "type": "histogram",
         "x": [
          "cardigan"
         ],
         "xaxis": "x",
         "yaxis": "y"
        },
        {
         "alignmentgroup": "True",
         "bingroup": "x",
         "hovertemplate": "album_name=evermore<br>song=%{x}<br>count=%{y}<extra></extra>",
         "legendgroup": "evermore",
         "marker": {
          "color": "#DA9F79",
          "pattern": {
           "shape": ""
          }
         },
         "name": "evermore",
         "offsetgroup": "evermore",
         "orientation": "v",
         "showlegend": true,
         "type": "histogram",
         "x": [
          "willow"
         ],
         "xaxis": "x",
         "yaxis": "y"
        },
        {
         "alignmentgroup": "True",
         "bingroup": "x",
         "hovertemplate": "album_name=Red (Taylor's Version)<br>song=%{x}<br>count=%{y}<extra></extra>",
         "legendgroup": "Red (Taylor's Version)",
         "marker": {
          "color": "#c96464",
          "pattern": {
           "shape": ""
          }
         },
         "name": "Red (Taylor's Version)",
         "offsetgroup": "Red (Taylor's Version)",
         "orientation": "v",
         "showlegend": true,
         "type": "histogram",
         "x": [
          "all too well (taylor's version)"
         ],
         "xaxis": "x",
         "yaxis": "y"
        },
        {
         "alignmentgroup": "True",
         "bingroup": "x",
         "hovertemplate": "album_name=Midnights<br>song=%{x}<br>count=%{y}<extra></extra>",
         "legendgroup": "Midnights",
         "marker": {
          "color": "#898ea8",
          "pattern": {
           "shape": ""
          }
         },
         "name": "Midnights",
         "offsetgroup": "Midnights",
         "orientation": "v",
         "showlegend": true,
         "type": "histogram",
         "x": [
          "anti-hero",
          "anti-hero",
          "anti-hero"
         ],
         "xaxis": "x",
         "yaxis": "y"
        }
       ],
       "layout": {
        "barmode": "relative",
        "legend": {
         "title": {
          "text": "Album Name"
         },
         "tracegroupgap": 0
        },
        "margin": {
         "t": 60
        },
        "template": {
         "data": {
          "bar": [
           {
            "error_x": {
             "color": "#2a3f5f"
            },
            "error_y": {
             "color": "#2a3f5f"
            },
            "marker": {
             "line": {
              "color": "white",
              "width": 0.5
             },
             "pattern": {
              "fillmode": "overlay",
              "size": 10,
              "solidity": 0.2
             }
            },
            "type": "bar"
           }
          ],
          "barpolar": [
           {
            "marker": {
             "line": {
              "color": "white",
              "width": 0.5
             },
             "pattern": {
              "fillmode": "overlay",
              "size": 10,
              "solidity": 0.2
             }
            },
            "type": "barpolar"
           }
          ],
          "carpet": [
           {
            "aaxis": {
             "endlinecolor": "#2a3f5f",
             "gridcolor": "#C8D4E3",
             "linecolor": "#C8D4E3",
             "minorgridcolor": "#C8D4E3",
             "startlinecolor": "#2a3f5f"
            },
            "baxis": {
             "endlinecolor": "#2a3f5f",
             "gridcolor": "#C8D4E3",
             "linecolor": "#C8D4E3",
             "minorgridcolor": "#C8D4E3",
             "startlinecolor": "#2a3f5f"
            },
            "type": "carpet"
           }
          ],
          "choropleth": [
           {
            "colorbar": {
             "outlinewidth": 0,
             "ticks": ""
            },
            "type": "choropleth"
           }
          ],
          "contour": [
           {
            "colorbar": {
             "outlinewidth": 0,
             "ticks": ""
            },
            "colorscale": [
             [
              0,
              "#0d0887"
             ],
             [
              0.1111111111111111,
              "#46039f"
             ],
             [
              0.2222222222222222,
              "#7201a8"
             ],
             [
              0.3333333333333333,
              "#9c179e"
             ],
             [
              0.4444444444444444,
              "#bd3786"
             ],
             [
              0.5555555555555556,
              "#d8576b"
             ],
             [
              0.6666666666666666,
              "#ed7953"
             ],
             [
              0.7777777777777778,
              "#fb9f3a"
             ],
             [
              0.8888888888888888,
              "#fdca26"
             ],
             [
              1,
              "#f0f921"
             ]
            ],
            "type": "contour"
           }
          ],
          "contourcarpet": [
           {
            "colorbar": {
             "outlinewidth": 0,
             "ticks": ""
            },
            "type": "contourcarpet"
           }
          ],
          "heatmap": [
           {
            "colorbar": {
             "outlinewidth": 0,
             "ticks": ""
            },
            "colorscale": [
             [
              0,
              "#0d0887"
             ],
             [
              0.1111111111111111,
              "#46039f"
             ],
             [
              0.2222222222222222,
              "#7201a8"
             ],
             [
              0.3333333333333333,
              "#9c179e"
             ],
             [
              0.4444444444444444,
              "#bd3786"
             ],
             [
              0.5555555555555556,
              "#d8576b"
             ],
             [
              0.6666666666666666,
              "#ed7953"
             ],
             [
              0.7777777777777778,
              "#fb9f3a"
             ],
             [
              0.8888888888888888,
              "#fdca26"
             ],
             [
              1,
              "#f0f921"
             ]
            ],
            "type": "heatmap"
           }
          ],
          "heatmapgl": [
           {
            "colorbar": {
             "outlinewidth": 0,
             "ticks": ""
            },
            "colorscale": [
             [
              0,
              "#0d0887"
             ],
             [
              0.1111111111111111,
              "#46039f"
             ],
             [
              0.2222222222222222,
              "#7201a8"
             ],
             [
              0.3333333333333333,
              "#9c179e"
             ],
             [
              0.4444444444444444,
              "#bd3786"
             ],
             [
              0.5555555555555556,
              "#d8576b"
             ],
             [
              0.6666666666666666,
              "#ed7953"
             ],
             [
              0.7777777777777778,
              "#fb9f3a"
             ],
             [
              0.8888888888888888,
              "#fdca26"
             ],
             [
              1,
              "#f0f921"
             ]
            ],
            "type": "heatmapgl"
           }
          ],
          "histogram": [
           {
            "marker": {
             "pattern": {
              "fillmode": "overlay",
              "size": 10,
              "solidity": 0.2
             }
            },
            "type": "histogram"
           }
          ],
          "histogram2d": [
           {
            "colorbar": {
             "outlinewidth": 0,
             "ticks": ""
            },
            "colorscale": [
             [
              0,
              "#0d0887"
             ],
             [
              0.1111111111111111,
              "#46039f"
             ],
             [
              0.2222222222222222,
              "#7201a8"
             ],
             [
              0.3333333333333333,
              "#9c179e"
             ],
             [
              0.4444444444444444,
              "#bd3786"
             ],
             [
              0.5555555555555556,
              "#d8576b"
             ],
             [
              0.6666666666666666,
              "#ed7953"
             ],
             [
              0.7777777777777778,
              "#fb9f3a"
             ],
             [
              0.8888888888888888,
              "#fdca26"
             ],
             [
              1,
              "#f0f921"
             ]
            ],
            "type": "histogram2d"
           }
          ],
          "histogram2dcontour": [
           {
            "colorbar": {
             "outlinewidth": 0,
             "ticks": ""
            },
            "colorscale": [
             [
              0,
              "#0d0887"
             ],
             [
              0.1111111111111111,
              "#46039f"
             ],
             [
              0.2222222222222222,
              "#7201a8"
             ],
             [
              0.3333333333333333,
              "#9c179e"
             ],
             [
              0.4444444444444444,
              "#bd3786"
             ],
             [
              0.5555555555555556,
              "#d8576b"
             ],
             [
              0.6666666666666666,
              "#ed7953"
             ],
             [
              0.7777777777777778,
              "#fb9f3a"
             ],
             [
              0.8888888888888888,
              "#fdca26"
             ],
             [
              1,
              "#f0f921"
             ]
            ],
            "type": "histogram2dcontour"
           }
          ],
          "mesh3d": [
           {
            "colorbar": {
             "outlinewidth": 0,
             "ticks": ""
            },
            "type": "mesh3d"
           }
          ],
          "parcoords": [
           {
            "line": {
             "colorbar": {
              "outlinewidth": 0,
              "ticks": ""
             }
            },
            "type": "parcoords"
           }
          ],
          "pie": [
           {
            "automargin": true,
            "type": "pie"
           }
          ],
          "scatter": [
           {
            "marker": {
             "colorbar": {
              "outlinewidth": 0,
              "ticks": ""
             }
            },
            "type": "scatter"
           }
          ],
          "scatter3d": [
           {
            "line": {
             "colorbar": {
              "outlinewidth": 0,
              "ticks": ""
             }
            },
            "marker": {
             "colorbar": {
              "outlinewidth": 0,
              "ticks": ""
             }
            },
            "type": "scatter3d"
           }
          ],
          "scattercarpet": [
           {
            "marker": {
             "colorbar": {
              "outlinewidth": 0,
              "ticks": ""
             }
            },
            "type": "scattercarpet"
           }
          ],
          "scattergeo": [
           {
            "marker": {
             "colorbar": {
              "outlinewidth": 0,
              "ticks": ""
             }
            },
            "type": "scattergeo"
           }
          ],
          "scattergl": [
           {
            "marker": {
             "colorbar": {
              "outlinewidth": 0,
              "ticks": ""
             }
            },
            "type": "scattergl"
           }
          ],
          "scattermapbox": [
           {
            "marker": {
             "colorbar": {
              "outlinewidth": 0,
              "ticks": ""
             }
            },
            "type": "scattermapbox"
           }
          ],
          "scatterpolar": [
           {
            "marker": {
             "colorbar": {
              "outlinewidth": 0,
              "ticks": ""
             }
            },
            "type": "scatterpolar"
           }
          ],
          "scatterpolargl": [
           {
            "marker": {
             "colorbar": {
              "outlinewidth": 0,
              "ticks": ""
             }
            },
            "type": "scatterpolargl"
           }
          ],
          "scatterternary": [
           {
            "marker": {
             "colorbar": {
              "outlinewidth": 0,
              "ticks": ""
             }
            },
            "type": "scatterternary"
           }
          ],
          "surface": [
           {
            "colorbar": {
             "outlinewidth": 0,
             "ticks": ""
            },
            "colorscale": [
             [
              0,
              "#0d0887"
             ],
             [
              0.1111111111111111,
              "#46039f"
             ],
             [
              0.2222222222222222,
              "#7201a8"
             ],
             [
              0.3333333333333333,
              "#9c179e"
             ],
             [
              0.4444444444444444,
              "#bd3786"
             ],
             [
              0.5555555555555556,
              "#d8576b"
             ],
             [
              0.6666666666666666,
              "#ed7953"
             ],
             [
              0.7777777777777778,
              "#fb9f3a"
             ],
             [
              0.8888888888888888,
              "#fdca26"
             ],
             [
              1,
              "#f0f921"
             ]
            ],
            "type": "surface"
           }
          ],
          "table": [
           {
            "cells": {
             "fill": {
              "color": "#EBF0F8"
             },
             "line": {
              "color": "white"
             }
            },
            "header": {
             "fill": {
              "color": "#C8D4E3"
             },
             "line": {
              "color": "white"
             }
            },
            "type": "table"
           }
          ]
         },
         "layout": {
          "annotationdefaults": {
           "arrowcolor": "#2a3f5f",
           "arrowhead": 0,
           "arrowwidth": 1
          },
          "autotypenumbers": "strict",
          "coloraxis": {
           "colorbar": {
            "outlinewidth": 0,
            "ticks": ""
           }
          },
          "colorscale": {
           "diverging": [
            [
             0,
             "#8e0152"
            ],
            [
             0.1,
             "#c51b7d"
            ],
            [
             0.2,
             "#de77ae"
            ],
            [
             0.3,
             "#f1b6da"
            ],
            [
             0.4,
             "#fde0ef"
            ],
            [
             0.5,
             "#f7f7f7"
            ],
            [
             0.6,
             "#e6f5d0"
            ],
            [
             0.7,
             "#b8e186"
            ],
            [
             0.8,
             "#7fbc41"
            ],
            [
             0.9,
             "#4d9221"
            ],
            [
             1,
             "#276419"
            ]
           ],
           "sequential": [
            [
             0,
             "#0d0887"
            ],
            [
             0.1111111111111111,
             "#46039f"
            ],
            [
             0.2222222222222222,
             "#7201a8"
            ],
            [
             0.3333333333333333,
             "#9c179e"
            ],
            [
             0.4444444444444444,
             "#bd3786"
            ],
            [
             0.5555555555555556,
             "#d8576b"
            ],
            [
             0.6666666666666666,
             "#ed7953"
            ],
            [
             0.7777777777777778,
             "#fb9f3a"
            ],
            [
             0.8888888888888888,
             "#fdca26"
            ],
            [
             1,
             "#f0f921"
            ]
           ],
           "sequentialminus": [
            [
             0,
             "#0d0887"
            ],
            [
             0.1111111111111111,
             "#46039f"
            ],
            [
             0.2222222222222222,
             "#7201a8"
            ],
            [
             0.3333333333333333,
             "#9c179e"
            ],
            [
             0.4444444444444444,
             "#bd3786"
            ],
            [
             0.5555555555555556,
             "#d8576b"
            ],
            [
             0.6666666666666666,
             "#ed7953"
            ],
            [
             0.7777777777777778,
             "#fb9f3a"
            ],
            [
             0.8888888888888888,
             "#fdca26"
            ],
            [
             1,
             "#f0f921"
            ]
           ]
          },
          "colorway": [
           "#636efa",
           "#EF553B",
           "#00cc96",
           "#ab63fa",
           "#FFA15A",
           "#19d3f3",
           "#FF6692",
           "#B6E880",
           "#FF97FF",
           "#FECB52"
          ],
          "font": {
           "color": "#2a3f5f"
          },
          "geo": {
           "bgcolor": "white",
           "lakecolor": "white",
           "landcolor": "white",
           "showlakes": true,
           "showland": true,
           "subunitcolor": "#C8D4E3"
          },
          "hoverlabel": {
           "align": "left"
          },
          "hovermode": "closest",
          "mapbox": {
           "style": "light"
          },
          "paper_bgcolor": "white",
          "plot_bgcolor": "white",
          "polar": {
           "angularaxis": {
            "gridcolor": "#EBF0F8",
            "linecolor": "#EBF0F8",
            "ticks": ""
           },
           "bgcolor": "white",
           "radialaxis": {
            "gridcolor": "#EBF0F8",
            "linecolor": "#EBF0F8",
            "ticks": ""
           }
          },
          "scene": {
           "xaxis": {
            "backgroundcolor": "white",
            "gridcolor": "#DFE8F3",
            "gridwidth": 2,
            "linecolor": "#EBF0F8",
            "showbackground": true,
            "ticks": "",
            "zerolinecolor": "#EBF0F8"
           },
           "yaxis": {
            "backgroundcolor": "white",
            "gridcolor": "#DFE8F3",
            "gridwidth": 2,
            "linecolor": "#EBF0F8",
            "showbackground": true,
            "ticks": "",
            "zerolinecolor": "#EBF0F8"
           },
           "zaxis": {
            "backgroundcolor": "white",
            "gridcolor": "#DFE8F3",
            "gridwidth": 2,
            "linecolor": "#EBF0F8",
            "showbackground": true,
            "ticks": "",
            "zerolinecolor": "#EBF0F8"
           }
          },
          "shapedefaults": {
           "line": {
            "color": "#2a3f5f"
           }
          },
          "ternary": {
           "aaxis": {
            "gridcolor": "#DFE8F3",
            "linecolor": "#A2B1C6",
            "ticks": ""
           },
           "baxis": {
            "gridcolor": "#DFE8F3",
            "linecolor": "#A2B1C6",
            "ticks": ""
           },
           "bgcolor": "white",
           "caxis": {
            "gridcolor": "#DFE8F3",
            "linecolor": "#A2B1C6",
            "ticks": ""
           }
          },
          "title": {
           "x": 0.05
          },
          "xaxis": {
           "automargin": true,
           "gridcolor": "#EBF0F8",
           "linecolor": "#EBF0F8",
           "ticks": "",
           "title": {
            "standoff": 15
           },
           "zerolinecolor": "#EBF0F8",
           "zerolinewidth": 2
          },
          "yaxis": {
           "automargin": true,
           "gridcolor": "#EBF0F8",
           "linecolor": "#EBF0F8",
           "ticks": "",
           "title": {
            "standoff": 15
           },
           "zerolinecolor": "#EBF0F8",
           "zerolinewidth": 2
          }
         }
        },
        "title": {
         "text": "Songs Ranked #1 in the Billboard Hot 100"
        },
        "xaxis": {
         "anchor": "y",
         "categoryorder": "total descending",
         "domain": [
          0,
          1
         ],
         "title": {
          "text": "Songs"
         }
        },
        "yaxis": {
         "anchor": "x",
         "domain": [
          0,
          1
         ],
         "title": {
          "text": "Number of Occurrences"
         }
        }
       }
      }
     },
     "metadata": {},
     "output_type": "display_data"
    }
   ],
   "source": [
    "# get all songs ever ranked #1\n",
    "fig = px.histogram(df[df['rank']==1], x='song', color = 'album_name', color_discrete_map=album_colors)\n",
    "fig.update_layout(\n",
    "xaxis_categoryorder='total descending',\n",
    "title='Songs Ranked #1 in the Billboard Hot 100',\n",
    "xaxis_title='Songs',\n",
    "yaxis_title='Number of Occurrences',\n",
    "legend_title='Album Name')\n",
    "fig.write_html(\"Songs Ranked #1 in the Billboard Hot 100.html\")\n",
    "fig.show()"
   ]
  },
  {
   "cell_type": "code",
   "execution_count": 37,
   "metadata": {},
   "outputs": [
    {
     "data": {
      "application/vnd.plotly.v1+json": {
       "config": {
        "plotlyServerURL": "https://plot.ly"
       },
       "data": [
        {
         "coloraxis": "coloraxis",
         "hovertemplate": "date=%{x}<br>rank=%{y}<br>count=%{z}<extra></extra>",
         "name": "",
         "nbinsx": 30,
         "nbinsy": 10,
         "type": "histogram2d",
         "x": [
          "2006-09-23",
          "2006-09-30",
          "2006-10-07",
          "2006-10-14",
          "2006-10-21",
          "2006-10-28",
          "2006-11-04",
          "2006-11-11",
          "2006-11-18",
          "2006-11-25",
          "2006-12-02",
          "2006-12-09",
          "2006-12-16",
          "2006-12-23",
          "2006-12-30",
          "2007-01-06",
          "2007-01-13",
          "2007-01-20",
          "2007-01-27",
          "2007-02-03",
          "2007-03-24",
          "2007-03-31",
          "2007-04-07",
          "2007-04-14",
          "2007-04-21",
          "2007-04-28",
          "2007-05-05",
          "2007-05-12",
          "2007-05-19",
          "2007-05-26",
          "2007-06-02",
          "2007-06-09",
          "2007-06-16",
          "2007-06-23",
          "2007-06-30",
          "2007-07-07",
          "2007-07-14",
          "2007-07-21",
          "2007-07-28",
          "2007-08-04",
          "2007-08-11",
          "2007-08-18",
          "2007-08-25",
          "2007-09-01",
          "2007-09-08",
          "2007-10-13",
          "2007-10-20",
          "2007-10-27",
          "2007-11-03",
          "2007-11-10",
          "2007-11-17",
          "2007-11-24",
          "2007-12-01",
          "2007-12-08",
          "2007-12-15",
          "2007-12-15",
          "2007-12-22",
          "2007-12-22",
          "2007-12-29",
          "2007-12-29",
          "2008-01-05",
          "2008-01-05",
          "2008-01-12",
          "2008-01-12",
          "2008-01-19",
          "2008-01-19",
          "2008-01-26",
          "2008-01-26",
          "2008-02-02",
          "2008-02-02",
          "2008-02-09",
          "2008-02-09",
          "2008-02-16",
          "2008-02-16",
          "2008-02-23",
          "2008-02-23",
          "2008-03-01",
          "2008-03-01",
          "2008-03-01",
          "2008-03-08",
          "2008-03-08",
          "2008-03-08",
          "2008-03-15",
          "2008-03-15",
          "2008-03-15",
          "2008-03-22",
          "2008-03-22",
          "2008-03-22",
          "2008-03-29",
          "2008-03-29",
          "2008-03-29",
          "2008-04-05",
          "2008-04-05",
          "2008-04-05",
          "2008-04-12",
          "2008-04-12",
          "2008-04-12",
          "2008-04-19",
          "2008-04-19",
          "2008-04-19",
          "2008-04-26",
          "2008-04-26",
          "2008-04-26",
          "2008-05-03",
          "2008-05-03",
          "2008-05-03",
          "2008-05-10",
          "2008-05-10",
          "2008-05-10",
          "2008-05-17",
          "2008-05-17",
          "2008-05-17",
          "2008-05-24",
          "2008-05-24",
          "2008-05-31",
          "2008-05-31",
          "2008-06-07",
          "2008-06-07",
          "2008-06-07",
          "2008-06-14",
          "2008-06-14",
          "2008-06-14",
          "2008-06-21",
          "2008-06-21",
          "2008-06-28",
          "2008-06-28",
          "2008-07-05",
          "2008-07-05",
          "2008-07-12",
          "2008-07-12",
          "2008-07-19",
          "2008-07-26",
          "2008-08-02",
          "2008-08-09",
          "2008-08-16",
          "2008-08-23",
          "2008-08-30",
          "2008-08-30",
          "2008-09-06",
          "2008-09-06",
          "2008-09-13",
          "2008-09-13",
          "2008-09-20",
          "2008-09-27",
          "2008-09-27",
          "2008-10-04",
          "2008-10-04",
          "2008-10-11",
          "2008-10-11",
          "2008-10-18",
          "2008-10-18",
          "2008-10-25",
          "2008-11-01",
          "2008-11-01",
          "2008-11-08",
          "2008-11-08",
          "2008-11-15",
          "2008-11-15",
          "2008-11-15",
          "2008-11-22",
          "2008-11-22",
          "2008-11-22",
          "2008-11-22",
          "2008-11-29",
          "2008-11-29",
          "2008-11-29",
          "2008-11-29",
          "2008-11-29",
          "2008-11-29",
          "2008-11-29",
          "2008-12-06",
          "2008-12-06",
          "2008-12-13",
          "2008-12-13",
          "2008-12-20",
          "2008-12-20",
          "2008-12-27",
          "2008-12-27",
          "2009-01-03",
          "2009-01-03",
          "2009-01-10",
          "2009-01-10",
          "2009-01-17",
          "2009-01-17",
          "2009-01-24",
          "2009-01-24",
          "2009-01-31",
          "2009-01-31",
          "2009-02-07",
          "2009-02-07",
          "2009-02-14",
          "2009-02-14",
          "2009-02-21",
          "2009-02-21",
          "2009-02-28",
          "2009-02-28",
          "2009-02-28",
          "2009-03-07",
          "2009-03-07",
          "2009-03-14",
          "2009-03-14",
          "2009-03-21",
          "2009-03-21",
          "2009-03-21",
          "2009-03-28",
          "2009-03-28",
          "2009-03-28",
          "2009-04-04",
          "2009-04-04",
          "2009-04-04",
          "2009-04-11",
          "2009-04-11",
          "2009-04-18",
          "2009-04-18",
          "2009-04-25",
          "2009-04-25",
          "2009-05-02",
          "2009-05-09",
          "2009-05-16",
          "2009-05-16",
          "2009-05-16",
          "2009-05-23",
          "2009-05-23",
          "2009-05-30",
          "2009-05-30",
          "2009-06-06",
          "2009-06-06",
          "2009-06-13",
          "2009-06-13",
          "2009-06-20",
          "2009-06-20",
          "2009-06-27",
          "2009-06-27",
          "2009-07-04",
          "2009-07-04",
          "2009-07-11",
          "2009-07-11",
          "2009-07-18",
          "2009-07-18",
          "2009-07-25",
          "2009-07-25",
          "2009-08-01",
          "2009-08-01",
          "2009-08-08",
          "2009-08-08",
          "2009-08-15",
          "2009-08-15",
          "2009-08-22",
          "2009-08-22",
          "2009-08-29",
          "2009-08-29",
          "2009-09-05",
          "2009-09-12",
          "2009-09-19",
          "2009-09-26",
          "2009-10-03",
          "2009-10-03",
          "2009-10-10",
          "2009-10-10",
          "2009-10-17",
          "2009-10-17",
          "2009-10-24",
          "2009-10-24",
          "2009-10-31",
          "2009-10-31",
          "2009-11-07",
          "2009-11-07",
          "2009-11-14",
          "2009-11-14",
          "2009-11-14",
          "2009-11-14",
          "2009-11-14",
          "2009-11-14",
          "2009-11-14",
          "2009-11-14",
          "2009-11-21",
          "2009-11-21",
          "2009-11-21",
          "2009-11-21",
          "2009-11-21",
          "2009-11-21",
          "2009-11-28",
          "2009-11-28",
          "2009-11-28",
          "2009-12-05",
          "2009-12-05",
          "2009-12-12",
          "2009-12-12",
          "2009-12-19",
          "2009-12-19",
          "2009-12-26",
          "2009-12-26",
          "2010-01-02",
          "2010-01-02",
          "2010-01-09",
          "2010-01-09",
          "2010-01-16",
          "2010-01-16",
          "2010-01-23",
          "2010-01-23",
          "2010-01-30",
          "2010-01-30",
          "2010-02-06",
          "2010-02-06",
          "2010-02-06",
          "2010-02-13",
          "2010-02-13",
          "2010-02-20",
          "2010-02-20",
          "2010-02-20",
          "2010-02-27",
          "2010-02-27",
          "2010-02-27",
          "2010-03-06",
          "2010-03-06",
          "2010-03-13",
          "2010-03-13",
          "2010-03-13",
          "2010-03-20",
          "2010-03-20",
          "2010-03-20",
          "2010-03-27",
          "2010-03-27",
          "2010-03-27",
          "2010-04-03",
          "2010-04-03",
          "2010-04-03",
          "2010-04-10",
          "2010-04-10",
          "2010-04-10",
          "2010-04-17",
          "2010-04-17",
          "2010-04-17",
          "2010-04-24",
          "2010-04-24",
          "2010-05-01",
          "2010-05-01",
          "2010-05-08",
          "2010-05-15",
          "2010-05-22",
          "2010-05-29",
          "2010-06-05",
          "2010-08-21",
          "2010-08-28",
          "2010-09-04",
          "2010-09-11",
          "2010-09-18",
          "2010-09-25",
          "2010-10-02",
          "2010-10-09",
          "2010-10-16",
          "2010-10-23",
          "2010-10-23",
          "2010-10-30",
          "2010-10-30",
          "2010-10-30",
          "2010-11-06",
          "2010-11-06",
          "2010-11-06",
          "2010-11-06",
          "2010-11-13",
          "2010-11-13",
          "2010-11-13",
          "2010-11-13",
          "2010-11-13",
          "2010-11-13",
          "2010-11-13",
          "2010-11-13",
          "2010-11-13",
          "2010-11-13",
          "2010-11-13",
          "2010-11-20",
          "2010-11-20",
          "2010-11-27",
          "2010-11-27",
          "2010-12-04",
          "2010-12-04",
          "2010-12-11",
          "2010-12-11",
          "2010-12-18",
          "2010-12-18",
          "2010-12-25",
          "2010-12-25",
          "2011-01-01",
          "2011-01-01",
          "2011-01-08",
          "2011-01-08",
          "2011-01-15",
          "2011-01-15",
          "2011-01-22",
          "2011-01-22",
          "2011-01-29",
          "2011-02-05",
          "2011-02-12",
          "2011-02-19",
          "2011-02-26",
          "2011-03-05",
          "2011-03-12",
          "2011-03-19",
          "2011-03-26",
          "2011-04-09",
          "2011-04-16",
          "2011-04-23",
          "2011-04-30",
          "2011-05-07",
          "2011-05-14",
          "2011-05-21",
          "2011-05-28",
          "2011-05-28",
          "2011-06-04",
          "2011-06-04",
          "2011-06-11",
          "2011-06-11",
          "2011-06-18",
          "2011-06-18",
          "2011-06-25",
          "2011-06-25",
          "2011-07-02",
          "2011-07-02",
          "2011-07-09",
          "2011-07-09",
          "2011-07-16",
          "2011-07-16",
          "2011-07-23",
          "2011-07-23",
          "2011-07-30",
          "2011-07-30",
          "2011-08-06",
          "2011-08-06",
          "2011-08-13",
          "2011-08-27",
          "2011-09-03",
          "2011-09-10",
          "2011-09-17",
          "2011-09-24",
          "2011-10-01",
          "2011-10-08",
          "2011-10-15",
          "2011-10-22",
          "2011-10-29",
          "2011-11-05",
          "2011-11-12",
          "2011-11-19",
          "2011-11-26",
          "2011-11-26",
          "2011-11-26",
          "2011-11-26",
          "2011-11-26",
          "2011-12-03",
          "2011-12-03",
          "2011-12-03",
          "2011-12-10",
          "2011-12-10",
          "2011-12-17",
          "2011-12-17",
          "2011-12-24",
          "2011-12-24",
          "2011-12-31",
          "2012-01-07",
          "2012-01-14",
          "2012-01-21",
          "2012-01-28",
          "2012-02-04",
          "2012-02-11",
          "2012-02-18",
          "2012-02-25",
          "2012-03-03",
          "2012-03-10",
          "2012-03-17",
          "2012-03-24",
          "2012-03-31",
          "2012-04-07",
          "2012-08-25",
          "2012-09-01",
          "2012-09-08",
          "2012-09-15",
          "2012-09-22",
          "2012-09-22",
          "2012-09-29",
          "2012-09-29",
          "2012-10-06",
          "2012-10-13",
          "2012-10-13",
          "2012-10-20",
          "2012-10-20",
          "2012-10-20",
          "2012-10-27",
          "2012-10-27",
          "2012-10-27",
          "2012-10-27",
          "2012-11-03",
          "2012-11-03",
          "2012-11-03",
          "2012-11-03",
          "2012-11-03",
          "2012-11-10",
          "2012-11-10",
          "2012-11-10",
          "2012-11-10",
          "2012-11-10",
          "2012-11-10",
          "2012-11-17",
          "2012-11-17",
          "2012-11-17",
          "2012-11-17",
          "2012-11-24",
          "2012-11-24",
          "2012-11-24",
          "2012-12-01",
          "2012-12-01",
          "2012-12-01",
          "2012-12-08",
          "2012-12-08",
          "2012-12-08",
          "2012-12-15",
          "2012-12-15",
          "2012-12-15",
          "2012-12-22",
          "2012-12-22",
          "2012-12-22",
          "2012-12-29",
          "2012-12-29",
          "2012-12-29",
          "2013-01-05",
          "2013-01-05",
          "2013-01-05",
          "2013-01-12",
          "2013-01-12",
          "2013-01-12",
          "2013-01-12",
          "2013-01-12",
          "2013-01-19",
          "2013-01-19",
          "2013-01-19",
          "2013-01-26",
          "2013-01-26",
          "2013-01-26",
          "2013-01-26",
          "2013-02-02",
          "2013-02-02",
          "2013-02-02",
          "2013-02-09",
          "2013-02-09",
          "2013-02-16",
          "2013-02-16",
          "2013-02-23",
          "2013-02-23",
          "2013-03-02",
          "2013-03-02",
          "2013-03-09",
          "2013-03-16",
          "2013-03-23",
          "2013-03-30",
          "2013-03-30",
          "2013-04-06",
          "2013-04-06",
          "2013-04-13",
          "2013-04-13",
          "2013-04-20",
          "2013-04-20",
          "2013-04-27",
          "2013-04-27",
          "2013-05-04",
          "2013-05-04",
          "2013-05-11",
          "2013-05-11",
          "2013-05-18",
          "2013-05-18",
          "2013-05-25",
          "2013-05-25",
          "2013-06-01",
          "2013-06-01",
          "2013-06-08",
          "2013-06-08",
          "2013-06-15",
          "2013-06-15",
          "2013-06-22",
          "2013-06-22",
          "2013-06-22",
          "2013-06-29",
          "2013-06-29",
          "2013-06-29",
          "2013-07-06",
          "2013-07-06",
          "2013-07-13",
          "2013-07-20",
          "2013-07-27",
          "2013-08-10",
          "2013-08-17",
          "2013-08-24",
          "2013-08-24",
          "2013-08-31",
          "2013-08-31",
          "2013-09-07",
          "2013-09-07",
          "2013-09-14",
          "2013-09-14",
          "2013-09-21",
          "2013-09-21",
          "2013-09-28",
          "2013-09-28",
          "2013-10-05",
          "2013-10-05",
          "2013-10-12",
          "2013-10-12",
          "2013-10-19",
          "2013-10-19",
          "2013-10-26",
          "2013-10-26",
          "2013-11-02",
          "2013-11-02",
          "2013-11-09",
          "2013-11-09",
          "2013-11-09",
          "2013-11-16",
          "2013-11-16",
          "2013-11-23",
          "2013-11-23",
          "2013-11-30",
          "2013-11-30",
          "2013-12-07",
          "2013-12-14",
          "2014-09-06",
          "2014-09-13",
          "2014-09-20",
          "2014-09-27",
          "2014-10-04",
          "2014-10-11",
          "2014-10-18",
          "2014-10-25",
          "2014-11-01",
          "2014-11-01",
          "2014-11-08",
          "2014-11-08",
          "2014-11-08",
          "2014-11-15",
          "2014-11-15",
          "2014-11-15",
          "2014-11-15",
          "2014-11-15",
          "2014-11-15",
          "2014-11-22",
          "2014-11-22",
          "2014-11-29",
          "2014-11-29",
          "2014-12-06",
          "2014-12-06",
          "2014-12-13",
          "2014-12-13",
          "2014-12-20",
          "2014-12-20",
          "2014-12-27",
          "2014-12-27",
          "2014-12-27",
          "2015-01-03",
          "2015-01-03",
          "2015-01-10",
          "2015-01-10",
          "2015-01-10",
          "2015-01-10",
          "2015-01-17",
          "2015-01-17",
          "2015-01-17",
          "2015-01-24",
          "2015-01-24",
          "2015-01-24",
          "2015-01-31",
          "2015-01-31",
          "2015-01-31",
          "2015-02-07",
          "2015-02-07",
          "2015-02-07",
          "2015-02-14",
          "2015-02-14",
          "2015-02-14",
          "2015-02-21",
          "2015-02-21",
          "2015-02-21",
          "2015-02-28",
          "2015-02-28",
          "2015-02-28",
          "2015-03-07",
          "2015-03-07",
          "2015-03-07",
          "2015-03-07",
          "2015-03-14",
          "2015-03-14",
          "2015-03-14",
          "2015-03-14",
          "2015-03-21",
          "2015-03-21",
          "2015-03-21",
          "2015-03-21",
          "2015-03-28",
          "2015-03-28",
          "2015-03-28",
          "2015-04-04",
          "2015-04-04",
          "2015-04-04",
          "2015-04-11",
          "2015-04-11",
          "2015-04-11",
          "2015-04-18",
          "2015-04-18",
          "2015-04-18",
          "2015-04-25",
          "2015-04-25",
          "2015-04-25",
          "2015-05-02",
          "2015-05-02",
          "2015-05-02",
          "2015-05-09",
          "2015-05-09",
          "2015-05-09",
          "2015-05-16",
          "2015-05-16",
          "2015-05-16",
          "2015-05-23",
          "2015-05-23",
          "2015-05-23",
          "2015-05-30",
          "2015-05-30",
          "2015-05-30",
          "2015-05-30",
          "2015-06-06",
          "2015-06-06",
          "2015-06-06",
          "2015-06-06",
          "2015-06-13",
          "2015-06-13",
          "2015-06-13",
          "2015-06-13",
          "2015-06-20",
          "2015-06-20",
          "2015-06-20",
          "2015-06-20",
          "2015-06-27",
          "2015-06-27",
          "2015-06-27",
          "2015-06-27",
          "2015-07-04",
          "2015-07-04",
          "2015-07-04",
          "2015-07-04",
          "2015-07-11",
          "2015-07-11",
          "2015-07-11",
          "2015-07-11",
          "2015-07-18",
          "2015-07-18",
          "2015-07-18",
          "2015-07-18",
          "2015-07-25",
          "2015-07-25",
          "2015-07-25",
          "2015-08-01",
          "2015-08-01",
          "2015-08-01",
          "2015-08-08",
          "2015-08-08",
          "2015-08-15",
          "2015-08-15",
          "2015-08-22",
          "2015-08-29",
          "2015-09-05",
          "2015-09-12",
          "2015-09-19",
          "2015-09-19",
          "2015-09-26",
          "2015-09-26",
          "2015-10-03",
          "2015-10-03",
          "2015-10-10",
          "2015-10-10",
          "2015-10-17",
          "2015-10-17",
          "2015-10-24",
          "2015-10-24",
          "2015-10-31",
          "2015-10-31",
          "2015-11-07",
          "2015-11-14",
          "2015-11-21",
          "2015-11-28",
          "2015-12-05",
          "2015-12-12",
          "2015-12-19",
          "2015-12-26",
          "2016-01-02",
          "2016-01-09",
          "2016-01-16",
          "2016-01-23",
          "2016-01-23",
          "2016-01-30",
          "2016-01-30",
          "2016-02-06",
          "2016-02-06",
          "2016-02-13",
          "2016-02-13",
          "2016-02-20",
          "2016-02-20",
          "2016-02-27",
          "2016-02-27",
          "2016-03-05",
          "2016-03-05",
          "2016-03-12",
          "2016-03-12",
          "2016-03-26",
          "2016-04-02",
          "2016-04-09",
          "2016-04-16",
          "2016-04-23",
          "2016-04-30",
          "2016-05-07",
          "2017-09-09",
          "2017-09-16",
          "2017-09-23",
          "2017-09-23",
          "2017-09-30",
          "2017-09-30",
          "2017-10-07",
          "2017-10-07",
          "2017-10-14",
          "2017-10-14",
          "2017-10-21",
          "2017-10-21",
          "2017-10-28",
          "2017-10-28",
          "2017-11-04",
          "2017-11-04",
          "2017-11-11",
          "2017-11-11",
          "2017-11-11",
          "2017-11-18",
          "2017-11-18",
          "2017-11-18",
          "2017-11-25",
          "2017-11-25",
          "2017-11-25",
          "2017-11-25",
          "2017-12-02",
          "2017-12-02",
          "2017-12-02",
          "2017-12-02",
          "2017-12-09",
          "2017-12-09",
          "2017-12-09",
          "2017-12-16",
          "2017-12-16",
          "2017-12-16",
          "2017-12-23",
          "2017-12-23",
          "2017-12-23",
          "2017-12-30",
          "2017-12-30",
          "2017-12-30",
          "2018-01-03",
          "2018-01-03",
          "2018-01-03",
          "2018-01-13",
          "2018-01-13",
          "2018-01-13",
          "2018-01-20",
          "2018-01-20",
          "2018-01-27",
          "2018-01-27",
          "2018-02-03",
          "2018-02-10",
          "2018-02-17",
          "2018-02-24",
          "2018-03-03",
          "2018-03-24",
          "2018-03-31",
          "2018-04-07",
          "2018-04-14",
          "2018-04-21",
          "2018-04-28",
          "2018-05-05",
          "2018-05-12",
          "2018-05-19",
          "2018-05-26",
          "2018-06-02",
          "2018-06-09",
          "2018-06-16",
          "2018-06-23",
          "2018-06-30",
          "2018-07-07",
          "2018-07-14",
          "2018-07-21",
          "2018-07-28",
          "2018-08-04",
          "2018-08-11",
          "2018-08-18",
          "2018-08-25",
          "2018-09-01",
          "2018-09-08",
          "2018-09-15",
          "2018-09-22",
          "2018-09-29",
          "2018-10-06",
          "2018-10-13",
          "2018-10-20",
          "2018-10-27",
          "2018-11-03",
          "2018-11-10",
          "2018-11-17",
          "2019-05-04",
          "2019-05-11",
          "2019-05-18",
          "2019-05-25",
          "2019-06-01",
          "2019-06-08",
          "2019-06-15",
          "2019-06-22",
          "2019-06-29",
          "2019-06-29",
          "2019-07-06",
          "2019-07-06",
          "2019-07-13",
          "2019-07-13",
          "2019-07-20",
          "2019-07-20",
          "2019-07-27",
          "2019-07-27",
          "2019-08-03",
          "2019-08-03",
          "2019-08-03",
          "2019-08-10",
          "2019-08-10",
          "2019-08-10",
          "2019-08-17",
          "2019-08-17",
          "2019-08-24",
          "2019-08-24",
          "2019-08-31",
          "2019-08-31",
          "2019-08-31",
          "2019-09-07",
          "2019-09-07",
          "2019-09-07",
          "2019-09-07",
          "2019-09-07",
          "2019-09-07",
          "2019-09-07",
          "2019-09-07",
          "2019-09-07",
          "2019-09-07",
          "2019-09-07",
          "2019-09-07",
          "2019-09-07",
          "2019-09-07",
          "2019-09-07",
          "2019-09-07",
          "2019-09-07",
          "2019-09-07",
          "2019-09-14",
          "2019-09-14",
          "2019-09-14",
          "2019-09-14",
          "2019-09-14",
          "2019-09-14",
          "2019-09-21",
          "2019-09-21",
          "2019-09-21",
          "2019-09-28",
          "2019-09-28",
          "2019-10-05",
          "2019-10-05",
          "2019-10-12",
          "2019-10-12",
          "2019-10-19",
          "2019-10-19",
          "2019-10-26",
          "2019-10-26",
          "2019-11-02",
          "2019-11-02",
          "2019-11-09",
          "2019-11-09",
          "2019-11-16",
          "2019-11-16",
          "2019-11-23",
          "2019-11-30",
          "2019-12-07",
          "2019-12-14",
          "2019-12-21",
          "2019-12-21",
          "2019-12-28",
          "2020-01-04",
          "2020-01-11",
          "2020-01-18",
          "2020-01-25",
          "2020-02-15",
          "2020-03-07",
          "2020-03-14",
          "2020-04-11",
          "2020-04-18",
          "2020-04-25",
          "2020-08-08",
          "2020-08-08",
          "2020-08-08",
          "2020-08-08",
          "2020-08-08",
          "2020-08-08",
          "2020-08-08",
          "2020-08-08",
          "2020-08-08",
          "2020-08-08",
          "2020-08-08",
          "2020-08-08",
          "2020-08-08",
          "2020-08-08",
          "2020-08-08",
          "2020-08-08",
          "2020-08-15",
          "2020-08-15",
          "2020-08-15",
          "2020-08-15",
          "2020-08-15",
          "2020-08-15",
          "2020-08-15",
          "2020-08-15",
          "2020-08-15",
          "2020-08-15",
          "2020-08-22",
          "2020-08-22",
          "2020-08-22",
          "2020-08-29",
          "2020-08-29",
          "2020-08-29",
          "2020-09-05",
          "2020-09-05",
          "2020-09-05",
          "2020-09-12",
          "2020-09-12",
          "2020-09-19",
          "2020-09-26",
          "2020-10-03",
          "2020-10-10",
          "2020-10-17",
          "2020-10-24",
          "2020-10-31",
          "2020-11-07",
          "2020-12-26",
          "2020-12-26",
          "2020-12-26",
          "2020-12-26",
          "2020-12-26",
          "2020-12-26",
          "2020-12-26",
          "2020-12-26",
          "2020-12-26",
          "2020-12-26",
          "2020-12-26",
          "2020-12-26",
          "2020-12-26",
          "2020-12-26",
          "2021-01-02",
          "2021-01-02",
          "2021-01-02",
          "2021-01-09",
          "2021-01-16",
          "2021-01-23",
          "2021-01-30",
          "2021-02-06",
          "2021-02-13",
          "2021-02-20",
          "2021-02-27",
          "2021-02-27",
          "2021-03-06",
          "2021-03-13",
          "2021-03-20",
          "2021-03-27",
          "2021-04-03",
          "2021-04-10",
          "2021-04-10",
          "2021-04-17",
          "2021-04-17",
          "2021-04-24",
          "2021-04-24",
          "2021-04-24",
          "2021-04-24",
          "2021-04-24",
          "2021-04-24",
          "2021-04-24",
          "2021-04-24",
          "2021-04-24",
          "2021-05-01",
          "2021-05-01",
          "2021-05-08",
          "2021-10-02",
          "2021-11-27",
          "2021-11-27",
          "2021-11-27",
          "2021-11-27",
          "2021-11-27",
          "2021-11-27",
          "2021-11-27",
          "2021-11-27",
          "2021-11-27",
          "2021-11-27",
          "2021-11-27",
          "2021-11-27",
          "2021-11-27",
          "2021-11-27",
          "2021-11-27",
          "2021-11-27",
          "2021-11-27",
          "2021-11-27",
          "2021-11-27",
          "2021-11-27",
          "2021-11-27",
          "2021-11-27",
          "2021-11-27",
          "2021-11-27",
          "2021-11-27",
          "2021-11-27",
          "2021-12-04",
          "2021-12-04",
          "2021-12-04",
          "2021-12-04",
          "2021-12-04",
          "2021-12-11",
          "2021-12-11",
          "2021-12-18",
          "2021-12-18",
          "2021-12-25",
          "2021-12-25",
          "2022-01-01",
          "2022-01-01",
          "2022-01-08",
          "2022-01-08",
          "2022-01-15",
          "2022-01-15",
          "2022-01-22",
          "2022-01-22",
          "2022-01-29",
          "2022-01-29",
          "2022-02-05",
          "2022-02-05",
          "2022-02-12",
          "2022-02-12",
          "2022-02-19",
          "2022-02-19",
          "2022-02-26",
          "2022-02-26",
          "2022-03-05",
          "2022-03-05",
          "2022-03-12",
          "2022-05-21",
          "2022-07-09",
          "2022-11-05",
          "2022-11-05",
          "2022-11-05",
          "2022-11-05",
          "2022-11-05",
          "2022-11-05",
          "2022-11-05",
          "2022-11-05",
          "2022-11-05",
          "2022-11-05",
          "2022-11-05",
          "2022-11-05",
          "2022-11-05",
          "2022-11-05",
          "2022-11-05",
          "2022-11-05",
          "2022-11-05",
          "2022-11-05",
          "2022-11-05",
          "2022-11-05",
          "2022-11-12",
          "2022-11-12",
          "2022-11-12",
          "2022-11-12",
          "2022-11-12",
          "2022-11-12",
          "2022-11-12",
          "2022-11-12",
          "2022-11-12",
          "2022-11-12",
          "2022-11-12",
          "2022-11-12",
          "2022-11-12",
          "2022-11-12",
          "2022-11-12",
          "2022-11-12",
          "2022-11-12",
          "2022-11-12",
          "2022-11-12",
          "2022-11-12",
          "2022-11-19",
          "2022-11-19",
          "2022-11-19",
          "2022-11-19",
          "2022-11-19",
          "2022-11-19",
          "2022-11-19",
          "2022-11-19",
          "2022-11-19",
          "2022-11-19",
          "2022-11-19",
          "2022-11-19",
          "2022-11-19",
          "2022-11-19",
          "2022-11-19",
          "2022-11-19",
          "2022-11-19",
          "2022-11-19"
         ],
         "xaxis": "x",
         "xbingroup": "x",
         "y": [
          86,
          87,
          77,
          72,
          68,
          65,
          61,
          51,
          51,
          47,
          48,
          45,
          44,
          46,
          45,
          48,
          40,
          43,
          40,
          43,
          93,
          77,
          78,
          70,
          60,
          52,
          56,
          53,
          50,
          51,
          44,
          46,
          49,
          42,
          42,
          45,
          42,
          41,
          40,
          39,
          33,
          34,
          38,
          49,
          50,
          86,
          67,
          56,
          46,
          39,
          36,
          24,
          28,
          23,
          44,
          24,
          30,
          22,
          24,
          21,
          23,
          26,
          19,
          17,
          18,
          16,
          17,
          20,
          14,
          16,
          15,
          24,
          15,
          31,
          15,
          29,
          91,
          13,
          30,
          83,
          16,
          35,
          73,
          22,
          39,
          64,
          20,
          39,
          55,
          22,
          39,
          51,
          22,
          39,
          45,
          26,
          33,
          44,
          26,
          28,
          36,
          29,
          28,
          29,
          38,
          28,
          29,
          48,
          31,
          28,
          49,
          29,
          36,
          34,
          52,
          39,
          71,
          84,
          48,
          67,
          84,
          48,
          74,
          75,
          80,
          65,
          82,
          64,
          89,
          55,
          46,
          38,
          34,
          33,
          38,
          37,
          10,
          35,
          39,
          40,
          100,
          51,
          61,
          16,
          66,
          5,
          83,
          9,
          82,
          13,
          90,
          14,
          9,
          14,
          38,
          15,
          79,
          16,
          11,
          98,
          14,
          12,
          35,
          49,
          79,
          18,
          94,
          13,
          87,
          72,
          14,
          56,
          12,
          47,
          12,
          52,
          11,
          51,
          7,
          48,
          5,
          41,
          4,
          38,
          5,
          37,
          5,
          35,
          5,
          39,
          5,
          40,
          7,
          39,
          65,
          7,
          34,
          8,
          34,
          9,
          30,
          12,
          31,
          67,
          13,
          29,
          40,
          13,
          32,
          95,
          15,
          32,
          14,
          39,
          14,
          44,
          16,
          18,
          95,
          18,
          87,
          21,
          50,
          24,
          46,
          34,
          47,
          28,
          41,
          26,
          32,
          26,
          18,
          29,
          16,
          33,
          11,
          38,
          9,
          41,
          6,
          40,
          3,
          42,
          4,
          46,
          3,
          46,
          2,
          49,
          4,
          4,
          5,
          6,
          6,
          94,
          4,
          89,
          6,
          81,
          7,
          77,
          8,
          67,
          10,
          62,
          11,
          10,
          19,
          34,
          30,
          26,
          23,
          46,
          14,
          41,
          69,
          100,
          94,
          38,
          13,
          91,
          26,
          14,
          26,
          15,
          27,
          18,
          23,
          18,
          27,
          22,
          30,
          22,
          25,
          19,
          28,
          17,
          37,
          16,
          36,
          22,
          40,
          27,
          2,
          26,
          22,
          99,
          27,
          39,
          97,
          29,
          30,
          35,
          24,
          94,
          33,
          31,
          87,
          36,
          30,
          77,
          39,
          30,
          77,
          45,
          35,
          76,
          45,
          36,
          76,
          50,
          38,
          78,
          41,
          84,
          56,
          65,
          81,
          85,
          96,
          97,
          3,
          8,
          14,
          9,
          7,
          10,
          12,
          11,
          12,
          14,
          8,
          14,
          6,
          45,
          13,
          30,
          86,
          11,
          21,
          17,
          54,
          41,
          84,
          75,
          56,
          27,
          63,
          71,
          85,
          16,
          78,
          23,
          74,
          33,
          67,
          37,
          47,
          47,
          43,
          50,
          34,
          52,
          26,
          42,
          27,
          31,
          25,
          50,
          25,
          26,
          22,
          18,
          20,
          24,
          24,
          29,
          32,
          37,
          90,
          67,
          48,
          51,
          50,
          54,
          46,
          37,
          98,
          34,
          88,
          39,
          77,
          33,
          72,
          37,
          66,
          31,
          67,
          34,
          67,
          39,
          72,
          44,
          69,
          55,
          83,
          61,
          97,
          63,
          84,
          70,
          67,
          68,
          64,
          57,
          59,
          60,
          54,
          50,
          49,
          46,
          42,
          49,
          98,
          13,
          10,
          26,
          54,
          56,
          53,
          55,
          81,
          65,
          83,
          85,
          65,
          47,
          45,
          43,
          43,
          47,
          44,
          46,
          42,
          47,
          46,
          45,
          48,
          39,
          41,
          42,
          72,
          1,
          1,
          2,
          1,
          16,
          2,
          36,
          4,
          4,
          7,
          6,
          5,
          52,
          54,
          3,
          5,
          70,
          13,
          77,
          23,
          4,
          78,
          80,
          44,
          65,
          11,
          91,
          67,
          89,
          59,
          5,
          68,
          73,
          7,
          71,
          77,
          9,
          73,
          47,
          11,
          78,
          32,
          15,
          77,
          15,
          25,
          78,
          10,
          27,
          75,
          4,
          29,
          76,
          80,
          2,
          84,
          17,
          63,
          3,
          25,
          73,
          4,
          39,
          73,
          64,
          5,
          46,
          73,
          4,
          78,
          5,
          75,
          5,
          71,
          5,
          65,
          4,
          4,
          6,
          7,
          64,
          10,
          26,
          12,
          33,
          16,
          34,
          19,
          32,
          25,
          24,
          34,
          20,
          35,
          21,
          36,
          25,
          41,
          26,
          48,
          23,
          43,
          24,
          42,
          26,
          91,
          49,
          32,
          79,
          49,
          41,
          49,
          55,
          65,
          41,
          61,
          100,
          61,
          85,
          56,
          86,
          51,
          82,
          49,
          76,
          43,
          76,
          42,
          76,
          45,
          75,
          45,
          73,
          41,
          73,
          32,
          73,
          37,
          76,
          37,
          34,
          76,
          47,
          32,
          55,
          51,
          58,
          53,
          51,
          1,
          1,
          2,
          2,
          2,
          2,
          2,
          2,
          18,
          2,
          48,
          77,
          2,
          69,
          18,
          60,
          1,
          80,
          76,
          13,
          1,
          1,
          3,
          1,
          5,
          1,
          4,
          1,
          6,
          1,
          76,
          10,
          1,
          11,
          1,
          84,
          9,
          78,
          2,
          71,
          7,
          2,
          72,
          9,
          3,
          52,
          5,
          4,
          37,
          5,
          4,
          29,
          9,
          5,
          18,
          10,
          7,
          10,
          15,
          7,
          8,
          15,
          51,
          8,
          7,
          21,
          83,
          10,
          6,
          24,
          71,
          12,
          7,
          22,
          11,
          7,
          24,
          13,
          7,
          24,
          17,
          7,
          26,
          19,
          10,
          27,
          23,
          12,
          32,
          24,
          12,
          33,
          25,
          15,
          34,
          26,
          17,
          35,
          29,
          20,
          34,
          53,
          32,
          23,
          34,
          1,
          35,
          27,
          39,
          2,
          37,
          31,
          38,
          2,
          42,
          34,
          39,
          2,
          42,
          38,
          40,
          2,
          45,
          41,
          39,
          2,
          50,
          48,
          46,
          4,
          48,
          50,
          4,
          48,
          47,
          4,
          47,
          4,
          50,
          4,
          6,
          9,
          12,
          18,
          21,
          15,
          25,
          12,
          29,
          13,
          37,
          10,
          43,
          8,
          46,
          9,
          49,
          6,
          5,
          7,
          8,
          8,
          9,
          13,
          14,
          18,
          23,
          22,
          18,
          46,
          21,
          55,
          28,
          50,
          34,
          44,
          34,
          49,
          35,
          51,
          38,
          53,
          46,
          77,
          46,
          73,
          69,
          62,
          61,
          62,
          46,
          78,
          77,
          1,
          4,
          1,
          21,
          1,
          34,
          3,
          39,
          3,
          47,
          5,
          53,
          4,
          52,
          10,
          46,
          25,
          13,
          19,
          34,
          69,
          30,
          37,
          85,
          27,
          18,
          31,
          89,
          73,
          24,
          86,
          44,
          31,
          83,
          60,
          43,
          39,
          72,
          37,
          49,
          70,
          59,
          42,
          76,
          58,
          39,
          55,
          80,
          36,
          96,
          18,
          30,
          43,
          45,
          65,
          91,
          84,
          66,
          52,
          46,
          54,
          51,
          52,
          56,
          46,
          36,
          34,
          28,
          37,
          25,
          27,
          20,
          23,
          15,
          12,
          12,
          13,
          17,
          16,
          19,
          25,
          29,
          25,
          27,
          29,
          37,
          33,
          34,
          38,
          43,
          49,
          100,
          2,
          3,
          8,
          9,
          11,
          11,
          14,
          2,
          15,
          13,
          31,
          13,
          39,
          16,
          52,
          15,
          55,
          69,
          15,
          58,
          79,
          16,
          61,
          18,
          66,
          18,
          63,
          19,
          14,
          58,
          28,
          29,
          10,
          23,
          38,
          51,
          49,
          45,
          57,
          67,
          62,
          63,
          77,
          4,
          75,
          11,
          92,
          89,
          74,
          71,
          23,
          61,
          12,
          54,
          49,
          96,
          24,
          49,
          21,
          44,
          23,
          45,
          27,
          34,
          28,
          37,
          33,
          38,
          37,
          48,
          52,
          43,
          46,
          26,
          15,
          19,
          32,
          40,
          59,
          48,
          57,
          34,
          36,
          50,
          50,
          92,
          85,
          90,
          88,
          88,
          4,
          1,
          13,
          6,
          16,
          26,
          35,
          23,
          39,
          44,
          37,
          47,
          57,
          42,
          58,
          71,
          23,
          8,
          66,
          36,
          69,
          93,
          98,
          73,
          85,
          91,
          50,
          24,
          61,
          67,
          33,
          82,
          85,
          36,
          98,
          92,
          45,
          52,
          52,
          49,
          53,
          77,
          85,
          88,
          96,
          1,
          21,
          40,
          45,
          34,
          52,
          67,
          63,
          61,
          71,
          68,
          75,
          82,
          57,
          38,
          77,
          97,
          23,
          22,
          29,
          28,
          28,
          29,
          29,
          11,
          25,
          29,
          32,
          42,
          39,
          50,
          51,
          59,
          90,
          60,
          71,
          88,
          52,
          75,
          94,
          65,
          72,
          30,
          62,
          90,
          60,
          61,
          37,
          18,
          25,
          54,
          46,
          1,
          52,
          59,
          55,
          67,
          66,
          76,
          85,
          84,
          63,
          90,
          77,
          83,
          87,
          51,
          43,
          69,
          45,
          22,
          79,
          47,
          61,
          88,
          86,
          4,
          74,
          70,
          21,
          78,
          42,
          82,
          59,
          89,
          68,
          93,
          66,
          80,
          55,
          63,
          82,
          88,
          74,
          73,
          77,
          57,
          75,
          61,
          84,
          68,
          96,
          21,
          99,
          64,
          75,
          50,
          60,
          2,
          3,
          1,
          4,
          8,
          5,
          7,
          10,
          6,
          14,
          9,
          15,
          13,
          26,
          21,
          32,
          33,
          41,
          20,
          45,
          6,
          12,
          1,
          16,
          20,
          7,
          32,
          24,
          9,
          42,
          17,
          45,
          38,
          71,
          68,
          73,
          79,
          86,
          59,
          97,
          23,
          36,
          1,
          40,
          42,
          30,
          56,
          51,
          33,
          67,
          39,
          71,
          65,
          87,
          85,
          90,
          98,
          76
         ],
         "yaxis": "y",
         "ybingroup": "y"
        }
       ],
       "layout": {
        "coloraxis": {
         "colorbar": {
          "title": {
           "text": "count"
          }
         },
         "colorscale": [
          [
           0,
           "rgb(247,251,255)"
          ],
          [
           0.125,
           "rgb(222,235,247)"
          ],
          [
           0.25,
           "rgb(198,219,239)"
          ],
          [
           0.375,
           "rgb(158,202,225)"
          ],
          [
           0.5,
           "rgb(107,174,214)"
          ],
          [
           0.625,
           "rgb(66,146,198)"
          ],
          [
           0.75,
           "rgb(33,113,181)"
          ],
          [
           0.875,
           "rgb(8,81,156)"
          ],
          [
           1,
           "rgb(8,48,107)"
          ]
         ]
        },
        "legend": {
         "tracegroupgap": 0
        },
        "margin": {
         "t": 60
        },
        "template": {
         "data": {
          "bar": [
           {
            "error_x": {
             "color": "#2a3f5f"
            },
            "error_y": {
             "color": "#2a3f5f"
            },
            "marker": {
             "line": {
              "color": "white",
              "width": 0.5
             },
             "pattern": {
              "fillmode": "overlay",
              "size": 10,
              "solidity": 0.2
             }
            },
            "type": "bar"
           }
          ],
          "barpolar": [
           {
            "marker": {
             "line": {
              "color": "white",
              "width": 0.5
             },
             "pattern": {
              "fillmode": "overlay",
              "size": 10,
              "solidity": 0.2
             }
            },
            "type": "barpolar"
           }
          ],
          "carpet": [
           {
            "aaxis": {
             "endlinecolor": "#2a3f5f",
             "gridcolor": "#C8D4E3",
             "linecolor": "#C8D4E3",
             "minorgridcolor": "#C8D4E3",
             "startlinecolor": "#2a3f5f"
            },
            "baxis": {
             "endlinecolor": "#2a3f5f",
             "gridcolor": "#C8D4E3",
             "linecolor": "#C8D4E3",
             "minorgridcolor": "#C8D4E3",
             "startlinecolor": "#2a3f5f"
            },
            "type": "carpet"
           }
          ],
          "choropleth": [
           {
            "colorbar": {
             "outlinewidth": 0,
             "ticks": ""
            },
            "type": "choropleth"
           }
          ],
          "contour": [
           {
            "colorbar": {
             "outlinewidth": 0,
             "ticks": ""
            },
            "colorscale": [
             [
              0,
              "#0d0887"
             ],
             [
              0.1111111111111111,
              "#46039f"
             ],
             [
              0.2222222222222222,
              "#7201a8"
             ],
             [
              0.3333333333333333,
              "#9c179e"
             ],
             [
              0.4444444444444444,
              "#bd3786"
             ],
             [
              0.5555555555555556,
              "#d8576b"
             ],
             [
              0.6666666666666666,
              "#ed7953"
             ],
             [
              0.7777777777777778,
              "#fb9f3a"
             ],
             [
              0.8888888888888888,
              "#fdca26"
             ],
             [
              1,
              "#f0f921"
             ]
            ],
            "type": "contour"
           }
          ],
          "contourcarpet": [
           {
            "colorbar": {
             "outlinewidth": 0,
             "ticks": ""
            },
            "type": "contourcarpet"
           }
          ],
          "heatmap": [
           {
            "colorbar": {
             "outlinewidth": 0,
             "ticks": ""
            },
            "colorscale": [
             [
              0,
              "#0d0887"
             ],
             [
              0.1111111111111111,
              "#46039f"
             ],
             [
              0.2222222222222222,
              "#7201a8"
             ],
             [
              0.3333333333333333,
              "#9c179e"
             ],
             [
              0.4444444444444444,
              "#bd3786"
             ],
             [
              0.5555555555555556,
              "#d8576b"
             ],
             [
              0.6666666666666666,
              "#ed7953"
             ],
             [
              0.7777777777777778,
              "#fb9f3a"
             ],
             [
              0.8888888888888888,
              "#fdca26"
             ],
             [
              1,
              "#f0f921"
             ]
            ],
            "type": "heatmap"
           }
          ],
          "heatmapgl": [
           {
            "colorbar": {
             "outlinewidth": 0,
             "ticks": ""
            },
            "colorscale": [
             [
              0,
              "#0d0887"
             ],
             [
              0.1111111111111111,
              "#46039f"
             ],
             [
              0.2222222222222222,
              "#7201a8"
             ],
             [
              0.3333333333333333,
              "#9c179e"
             ],
             [
              0.4444444444444444,
              "#bd3786"
             ],
             [
              0.5555555555555556,
              "#d8576b"
             ],
             [
              0.6666666666666666,
              "#ed7953"
             ],
             [
              0.7777777777777778,
              "#fb9f3a"
             ],
             [
              0.8888888888888888,
              "#fdca26"
             ],
             [
              1,
              "#f0f921"
             ]
            ],
            "type": "heatmapgl"
           }
          ],
          "histogram": [
           {
            "marker": {
             "pattern": {
              "fillmode": "overlay",
              "size": 10,
              "solidity": 0.2
             }
            },
            "type": "histogram"
           }
          ],
          "histogram2d": [
           {
            "colorbar": {
             "outlinewidth": 0,
             "ticks": ""
            },
            "colorscale": [
             [
              0,
              "#0d0887"
             ],
             [
              0.1111111111111111,
              "#46039f"
             ],
             [
              0.2222222222222222,
              "#7201a8"
             ],
             [
              0.3333333333333333,
              "#9c179e"
             ],
             [
              0.4444444444444444,
              "#bd3786"
             ],
             [
              0.5555555555555556,
              "#d8576b"
             ],
             [
              0.6666666666666666,
              "#ed7953"
             ],
             [
              0.7777777777777778,
              "#fb9f3a"
             ],
             [
              0.8888888888888888,
              "#fdca26"
             ],
             [
              1,
              "#f0f921"
             ]
            ],
            "type": "histogram2d"
           }
          ],
          "histogram2dcontour": [
           {
            "colorbar": {
             "outlinewidth": 0,
             "ticks": ""
            },
            "colorscale": [
             [
              0,
              "#0d0887"
             ],
             [
              0.1111111111111111,
              "#46039f"
             ],
             [
              0.2222222222222222,
              "#7201a8"
             ],
             [
              0.3333333333333333,
              "#9c179e"
             ],
             [
              0.4444444444444444,
              "#bd3786"
             ],
             [
              0.5555555555555556,
              "#d8576b"
             ],
             [
              0.6666666666666666,
              "#ed7953"
             ],
             [
              0.7777777777777778,
              "#fb9f3a"
             ],
             [
              0.8888888888888888,
              "#fdca26"
             ],
             [
              1,
              "#f0f921"
             ]
            ],
            "type": "histogram2dcontour"
           }
          ],
          "mesh3d": [
           {
            "colorbar": {
             "outlinewidth": 0,
             "ticks": ""
            },
            "type": "mesh3d"
           }
          ],
          "parcoords": [
           {
            "line": {
             "colorbar": {
              "outlinewidth": 0,
              "ticks": ""
             }
            },
            "type": "parcoords"
           }
          ],
          "pie": [
           {
            "automargin": true,
            "type": "pie"
           }
          ],
          "scatter": [
           {
            "marker": {
             "colorbar": {
              "outlinewidth": 0,
              "ticks": ""
             }
            },
            "type": "scatter"
           }
          ],
          "scatter3d": [
           {
            "line": {
             "colorbar": {
              "outlinewidth": 0,
              "ticks": ""
             }
            },
            "marker": {
             "colorbar": {
              "outlinewidth": 0,
              "ticks": ""
             }
            },
            "type": "scatter3d"
           }
          ],
          "scattercarpet": [
           {
            "marker": {
             "colorbar": {
              "outlinewidth": 0,
              "ticks": ""
             }
            },
            "type": "scattercarpet"
           }
          ],
          "scattergeo": [
           {
            "marker": {
             "colorbar": {
              "outlinewidth": 0,
              "ticks": ""
             }
            },
            "type": "scattergeo"
           }
          ],
          "scattergl": [
           {
            "marker": {
             "colorbar": {
              "outlinewidth": 0,
              "ticks": ""
             }
            },
            "type": "scattergl"
           }
          ],
          "scattermapbox": [
           {
            "marker": {
             "colorbar": {
              "outlinewidth": 0,
              "ticks": ""
             }
            },
            "type": "scattermapbox"
           }
          ],
          "scatterpolar": [
           {
            "marker": {
             "colorbar": {
              "outlinewidth": 0,
              "ticks": ""
             }
            },
            "type": "scatterpolar"
           }
          ],
          "scatterpolargl": [
           {
            "marker": {
             "colorbar": {
              "outlinewidth": 0,
              "ticks": ""
             }
            },
            "type": "scatterpolargl"
           }
          ],
          "scatterternary": [
           {
            "marker": {
             "colorbar": {
              "outlinewidth": 0,
              "ticks": ""
             }
            },
            "type": "scatterternary"
           }
          ],
          "surface": [
           {
            "colorbar": {
             "outlinewidth": 0,
             "ticks": ""
            },
            "colorscale": [
             [
              0,
              "#0d0887"
             ],
             [
              0.1111111111111111,
              "#46039f"
             ],
             [
              0.2222222222222222,
              "#7201a8"
             ],
             [
              0.3333333333333333,
              "#9c179e"
             ],
             [
              0.4444444444444444,
              "#bd3786"
             ],
             [
              0.5555555555555556,
              "#d8576b"
             ],
             [
              0.6666666666666666,
              "#ed7953"
             ],
             [
              0.7777777777777778,
              "#fb9f3a"
             ],
             [
              0.8888888888888888,
              "#fdca26"
             ],
             [
              1,
              "#f0f921"
             ]
            ],
            "type": "surface"
           }
          ],
          "table": [
           {
            "cells": {
             "fill": {
              "color": "#EBF0F8"
             },
             "line": {
              "color": "white"
             }
            },
            "header": {
             "fill": {
              "color": "#C8D4E3"
             },
             "line": {
              "color": "white"
             }
            },
            "type": "table"
           }
          ]
         },
         "layout": {
          "annotationdefaults": {
           "arrowcolor": "#2a3f5f",
           "arrowhead": 0,
           "arrowwidth": 1
          },
          "autotypenumbers": "strict",
          "coloraxis": {
           "colorbar": {
            "outlinewidth": 0,
            "ticks": ""
           }
          },
          "colorscale": {
           "diverging": [
            [
             0,
             "#8e0152"
            ],
            [
             0.1,
             "#c51b7d"
            ],
            [
             0.2,
             "#de77ae"
            ],
            [
             0.3,
             "#f1b6da"
            ],
            [
             0.4,
             "#fde0ef"
            ],
            [
             0.5,
             "#f7f7f7"
            ],
            [
             0.6,
             "#e6f5d0"
            ],
            [
             0.7,
             "#b8e186"
            ],
            [
             0.8,
             "#7fbc41"
            ],
            [
             0.9,
             "#4d9221"
            ],
            [
             1,
             "#276419"
            ]
           ],
           "sequential": [
            [
             0,
             "#0d0887"
            ],
            [
             0.1111111111111111,
             "#46039f"
            ],
            [
             0.2222222222222222,
             "#7201a8"
            ],
            [
             0.3333333333333333,
             "#9c179e"
            ],
            [
             0.4444444444444444,
             "#bd3786"
            ],
            [
             0.5555555555555556,
             "#d8576b"
            ],
            [
             0.6666666666666666,
             "#ed7953"
            ],
            [
             0.7777777777777778,
             "#fb9f3a"
            ],
            [
             0.8888888888888888,
             "#fdca26"
            ],
            [
             1,
             "#f0f921"
            ]
           ],
           "sequentialminus": [
            [
             0,
             "#0d0887"
            ],
            [
             0.1111111111111111,
             "#46039f"
            ],
            [
             0.2222222222222222,
             "#7201a8"
            ],
            [
             0.3333333333333333,
             "#9c179e"
            ],
            [
             0.4444444444444444,
             "#bd3786"
            ],
            [
             0.5555555555555556,
             "#d8576b"
            ],
            [
             0.6666666666666666,
             "#ed7953"
            ],
            [
             0.7777777777777778,
             "#fb9f3a"
            ],
            [
             0.8888888888888888,
             "#fdca26"
            ],
            [
             1,
             "#f0f921"
            ]
           ]
          },
          "colorway": [
           "#636efa",
           "#EF553B",
           "#00cc96",
           "#ab63fa",
           "#FFA15A",
           "#19d3f3",
           "#FF6692",
           "#B6E880",
           "#FF97FF",
           "#FECB52"
          ],
          "font": {
           "color": "#2a3f5f"
          },
          "geo": {
           "bgcolor": "white",
           "lakecolor": "white",
           "landcolor": "white",
           "showlakes": true,
           "showland": true,
           "subunitcolor": "#C8D4E3"
          },
          "hoverlabel": {
           "align": "left"
          },
          "hovermode": "closest",
          "mapbox": {
           "style": "light"
          },
          "paper_bgcolor": "white",
          "plot_bgcolor": "white",
          "polar": {
           "angularaxis": {
            "gridcolor": "#EBF0F8",
            "linecolor": "#EBF0F8",
            "ticks": ""
           },
           "bgcolor": "white",
           "radialaxis": {
            "gridcolor": "#EBF0F8",
            "linecolor": "#EBF0F8",
            "ticks": ""
           }
          },
          "scene": {
           "xaxis": {
            "backgroundcolor": "white",
            "gridcolor": "#DFE8F3",
            "gridwidth": 2,
            "linecolor": "#EBF0F8",
            "showbackground": true,
            "ticks": "",
            "zerolinecolor": "#EBF0F8"
           },
           "yaxis": {
            "backgroundcolor": "white",
            "gridcolor": "#DFE8F3",
            "gridwidth": 2,
            "linecolor": "#EBF0F8",
            "showbackground": true,
            "ticks": "",
            "zerolinecolor": "#EBF0F8"
           },
           "zaxis": {
            "backgroundcolor": "white",
            "gridcolor": "#DFE8F3",
            "gridwidth": 2,
            "linecolor": "#EBF0F8",
            "showbackground": true,
            "ticks": "",
            "zerolinecolor": "#EBF0F8"
           }
          },
          "shapedefaults": {
           "line": {
            "color": "#2a3f5f"
           }
          },
          "ternary": {
           "aaxis": {
            "gridcolor": "#DFE8F3",
            "linecolor": "#A2B1C6",
            "ticks": ""
           },
           "baxis": {
            "gridcolor": "#DFE8F3",
            "linecolor": "#A2B1C6",
            "ticks": ""
           },
           "bgcolor": "white",
           "caxis": {
            "gridcolor": "#DFE8F3",
            "linecolor": "#A2B1C6",
            "ticks": ""
           }
          },
          "title": {
           "x": 0.05
          },
          "xaxis": {
           "automargin": true,
           "gridcolor": "#EBF0F8",
           "linecolor": "#EBF0F8",
           "ticks": "",
           "title": {
            "standoff": 15
           },
           "zerolinecolor": "#EBF0F8",
           "zerolinewidth": 2
          },
          "yaxis": {
           "automargin": true,
           "gridcolor": "#EBF0F8",
           "linecolor": "#EBF0F8",
           "ticks": "",
           "title": {
            "standoff": 15
           },
           "zerolinecolor": "#EBF0F8",
           "zerolinewidth": 2
          }
         }
        },
        "title": {
         "text": "Popularity Over the Years"
        },
        "xaxis": {
         "anchor": "y",
         "domain": [
          0,
          1
         ],
         "title": {
          "text": "Date"
         }
        },
        "yaxis": {
         "anchor": "x",
         "domain": [
          0,
          1
         ],
         "range": [
          100,
          1
         ],
         "tick0": 1,
         "title": {
          "text": "Top 100 Billboard Ranking"
         }
        }
       }
      }
     },
     "metadata": {},
     "output_type": "display_data"
    }
   ],
   "source": [
    "# heat map of songs in hot 100 over time\n",
    "fig = px.density_heatmap(df, x=\"date\", y=\"rank\", nbinsx=30, nbinsy=10, color_continuous_scale='Blues')\n",
    "fig.update_yaxes(range=[100,1], tick0=1)\n",
    "fig.update_layout(\n",
    "title='Popularity Over the Years',\n",
    "xaxis_title='Date',\n",
    "yaxis_title='Top 100 Billboard Ranking')\n",
    "fig.write_html(\"Popularity Over the Years.html\")\n",
    "fig.show()"
   ]
  },
  {
   "cell_type": "code",
   "execution_count": 38,
   "metadata": {},
   "outputs": [
    {
     "data": {
      "application/vnd.plotly.v1+json": {
       "config": {
        "plotlyServerURL": "https://plot.ly"
       },
       "data": [
        {
         "alignmentgroup": "True",
         "hovertemplate": "album_name=%{x}<br>index=%{y}<extra></extra>",
         "legendgroup": "",
         "marker": {
          "color": "#636efa",
          "pattern": {
           "shape": ""
          }
         },
         "name": "",
         "offsetgroup": "",
         "orientation": "h",
         "showlegend": false,
         "textposition": "auto",
         "type": "bar",
         "x": [
          192,
          180,
          147,
          144,
          130,
          92,
          89,
          58,
          55,
          45,
          35
         ],
         "xaxis": "x",
         "y": [
          "1989",
          "Fearless",
          "Red",
          "Taylor Swift",
          "Speak Now",
          "reputation",
          "Lover",
          "Midnights",
          "Red (Taylor's Version)",
          "folklore",
          "evermore"
         ],
         "yaxis": "y"
        }
       ],
       "layout": {
        "barmode": "relative",
        "legend": {
         "tracegroupgap": 0
        },
        "margin": {
         "t": 60
        },
        "template": {
         "data": {
          "bar": [
           {
            "error_x": {
             "color": "#2a3f5f"
            },
            "error_y": {
             "color": "#2a3f5f"
            },
            "marker": {
             "line": {
              "color": "white",
              "width": 0.5
             },
             "pattern": {
              "fillmode": "overlay",
              "size": 10,
              "solidity": 0.2
             }
            },
            "type": "bar"
           }
          ],
          "barpolar": [
           {
            "marker": {
             "line": {
              "color": "white",
              "width": 0.5
             },
             "pattern": {
              "fillmode": "overlay",
              "size": 10,
              "solidity": 0.2
             }
            },
            "type": "barpolar"
           }
          ],
          "carpet": [
           {
            "aaxis": {
             "endlinecolor": "#2a3f5f",
             "gridcolor": "#C8D4E3",
             "linecolor": "#C8D4E3",
             "minorgridcolor": "#C8D4E3",
             "startlinecolor": "#2a3f5f"
            },
            "baxis": {
             "endlinecolor": "#2a3f5f",
             "gridcolor": "#C8D4E3",
             "linecolor": "#C8D4E3",
             "minorgridcolor": "#C8D4E3",
             "startlinecolor": "#2a3f5f"
            },
            "type": "carpet"
           }
          ],
          "choropleth": [
           {
            "colorbar": {
             "outlinewidth": 0,
             "ticks": ""
            },
            "type": "choropleth"
           }
          ],
          "contour": [
           {
            "colorbar": {
             "outlinewidth": 0,
             "ticks": ""
            },
            "colorscale": [
             [
              0,
              "#0d0887"
             ],
             [
              0.1111111111111111,
              "#46039f"
             ],
             [
              0.2222222222222222,
              "#7201a8"
             ],
             [
              0.3333333333333333,
              "#9c179e"
             ],
             [
              0.4444444444444444,
              "#bd3786"
             ],
             [
              0.5555555555555556,
              "#d8576b"
             ],
             [
              0.6666666666666666,
              "#ed7953"
             ],
             [
              0.7777777777777778,
              "#fb9f3a"
             ],
             [
              0.8888888888888888,
              "#fdca26"
             ],
             [
              1,
              "#f0f921"
             ]
            ],
            "type": "contour"
           }
          ],
          "contourcarpet": [
           {
            "colorbar": {
             "outlinewidth": 0,
             "ticks": ""
            },
            "type": "contourcarpet"
           }
          ],
          "heatmap": [
           {
            "colorbar": {
             "outlinewidth": 0,
             "ticks": ""
            },
            "colorscale": [
             [
              0,
              "#0d0887"
             ],
             [
              0.1111111111111111,
              "#46039f"
             ],
             [
              0.2222222222222222,
              "#7201a8"
             ],
             [
              0.3333333333333333,
              "#9c179e"
             ],
             [
              0.4444444444444444,
              "#bd3786"
             ],
             [
              0.5555555555555556,
              "#d8576b"
             ],
             [
              0.6666666666666666,
              "#ed7953"
             ],
             [
              0.7777777777777778,
              "#fb9f3a"
             ],
             [
              0.8888888888888888,
              "#fdca26"
             ],
             [
              1,
              "#f0f921"
             ]
            ],
            "type": "heatmap"
           }
          ],
          "heatmapgl": [
           {
            "colorbar": {
             "outlinewidth": 0,
             "ticks": ""
            },
            "colorscale": [
             [
              0,
              "#0d0887"
             ],
             [
              0.1111111111111111,
              "#46039f"
             ],
             [
              0.2222222222222222,
              "#7201a8"
             ],
             [
              0.3333333333333333,
              "#9c179e"
             ],
             [
              0.4444444444444444,
              "#bd3786"
             ],
             [
              0.5555555555555556,
              "#d8576b"
             ],
             [
              0.6666666666666666,
              "#ed7953"
             ],
             [
              0.7777777777777778,
              "#fb9f3a"
             ],
             [
              0.8888888888888888,
              "#fdca26"
             ],
             [
              1,
              "#f0f921"
             ]
            ],
            "type": "heatmapgl"
           }
          ],
          "histogram": [
           {
            "marker": {
             "pattern": {
              "fillmode": "overlay",
              "size": 10,
              "solidity": 0.2
             }
            },
            "type": "histogram"
           }
          ],
          "histogram2d": [
           {
            "colorbar": {
             "outlinewidth": 0,
             "ticks": ""
            },
            "colorscale": [
             [
              0,
              "#0d0887"
             ],
             [
              0.1111111111111111,
              "#46039f"
             ],
             [
              0.2222222222222222,
              "#7201a8"
             ],
             [
              0.3333333333333333,
              "#9c179e"
             ],
             [
              0.4444444444444444,
              "#bd3786"
             ],
             [
              0.5555555555555556,
              "#d8576b"
             ],
             [
              0.6666666666666666,
              "#ed7953"
             ],
             [
              0.7777777777777778,
              "#fb9f3a"
             ],
             [
              0.8888888888888888,
              "#fdca26"
             ],
             [
              1,
              "#f0f921"
             ]
            ],
            "type": "histogram2d"
           }
          ],
          "histogram2dcontour": [
           {
            "colorbar": {
             "outlinewidth": 0,
             "ticks": ""
            },
            "colorscale": [
             [
              0,
              "#0d0887"
             ],
             [
              0.1111111111111111,
              "#46039f"
             ],
             [
              0.2222222222222222,
              "#7201a8"
             ],
             [
              0.3333333333333333,
              "#9c179e"
             ],
             [
              0.4444444444444444,
              "#bd3786"
             ],
             [
              0.5555555555555556,
              "#d8576b"
             ],
             [
              0.6666666666666666,
              "#ed7953"
             ],
             [
              0.7777777777777778,
              "#fb9f3a"
             ],
             [
              0.8888888888888888,
              "#fdca26"
             ],
             [
              1,
              "#f0f921"
             ]
            ],
            "type": "histogram2dcontour"
           }
          ],
          "mesh3d": [
           {
            "colorbar": {
             "outlinewidth": 0,
             "ticks": ""
            },
            "type": "mesh3d"
           }
          ],
          "parcoords": [
           {
            "line": {
             "colorbar": {
              "outlinewidth": 0,
              "ticks": ""
             }
            },
            "type": "parcoords"
           }
          ],
          "pie": [
           {
            "automargin": true,
            "type": "pie"
           }
          ],
          "scatter": [
           {
            "marker": {
             "colorbar": {
              "outlinewidth": 0,
              "ticks": ""
             }
            },
            "type": "scatter"
           }
          ],
          "scatter3d": [
           {
            "line": {
             "colorbar": {
              "outlinewidth": 0,
              "ticks": ""
             }
            },
            "marker": {
             "colorbar": {
              "outlinewidth": 0,
              "ticks": ""
             }
            },
            "type": "scatter3d"
           }
          ],
          "scattercarpet": [
           {
            "marker": {
             "colorbar": {
              "outlinewidth": 0,
              "ticks": ""
             }
            },
            "type": "scattercarpet"
           }
          ],
          "scattergeo": [
           {
            "marker": {
             "colorbar": {
              "outlinewidth": 0,
              "ticks": ""
             }
            },
            "type": "scattergeo"
           }
          ],
          "scattergl": [
           {
            "marker": {
             "colorbar": {
              "outlinewidth": 0,
              "ticks": ""
             }
            },
            "type": "scattergl"
           }
          ],
          "scattermapbox": [
           {
            "marker": {
             "colorbar": {
              "outlinewidth": 0,
              "ticks": ""
             }
            },
            "type": "scattermapbox"
           }
          ],
          "scatterpolar": [
           {
            "marker": {
             "colorbar": {
              "outlinewidth": 0,
              "ticks": ""
             }
            },
            "type": "scatterpolar"
           }
          ],
          "scatterpolargl": [
           {
            "marker": {
             "colorbar": {
              "outlinewidth": 0,
              "ticks": ""
             }
            },
            "type": "scatterpolargl"
           }
          ],
          "scatterternary": [
           {
            "marker": {
             "colorbar": {
              "outlinewidth": 0,
              "ticks": ""
             }
            },
            "type": "scatterternary"
           }
          ],
          "surface": [
           {
            "colorbar": {
             "outlinewidth": 0,
             "ticks": ""
            },
            "colorscale": [
             [
              0,
              "#0d0887"
             ],
             [
              0.1111111111111111,
              "#46039f"
             ],
             [
              0.2222222222222222,
              "#7201a8"
             ],
             [
              0.3333333333333333,
              "#9c179e"
             ],
             [
              0.4444444444444444,
              "#bd3786"
             ],
             [
              0.5555555555555556,
              "#d8576b"
             ],
             [
              0.6666666666666666,
              "#ed7953"
             ],
             [
              0.7777777777777778,
              "#fb9f3a"
             ],
             [
              0.8888888888888888,
              "#fdca26"
             ],
             [
              1,
              "#f0f921"
             ]
            ],
            "type": "surface"
           }
          ],
          "table": [
           {
            "cells": {
             "fill": {
              "color": "#EBF0F8"
             },
             "line": {
              "color": "white"
             }
            },
            "header": {
             "fill": {
              "color": "#C8D4E3"
             },
             "line": {
              "color": "white"
             }
            },
            "type": "table"
           }
          ]
         },
         "layout": {
          "annotationdefaults": {
           "arrowcolor": "#2a3f5f",
           "arrowhead": 0,
           "arrowwidth": 1
          },
          "autotypenumbers": "strict",
          "coloraxis": {
           "colorbar": {
            "outlinewidth": 0,
            "ticks": ""
           }
          },
          "colorscale": {
           "diverging": [
            [
             0,
             "#8e0152"
            ],
            [
             0.1,
             "#c51b7d"
            ],
            [
             0.2,
             "#de77ae"
            ],
            [
             0.3,
             "#f1b6da"
            ],
            [
             0.4,
             "#fde0ef"
            ],
            [
             0.5,
             "#f7f7f7"
            ],
            [
             0.6,
             "#e6f5d0"
            ],
            [
             0.7,
             "#b8e186"
            ],
            [
             0.8,
             "#7fbc41"
            ],
            [
             0.9,
             "#4d9221"
            ],
            [
             1,
             "#276419"
            ]
           ],
           "sequential": [
            [
             0,
             "#0d0887"
            ],
            [
             0.1111111111111111,
             "#46039f"
            ],
            [
             0.2222222222222222,
             "#7201a8"
            ],
            [
             0.3333333333333333,
             "#9c179e"
            ],
            [
             0.4444444444444444,
             "#bd3786"
            ],
            [
             0.5555555555555556,
             "#d8576b"
            ],
            [
             0.6666666666666666,
             "#ed7953"
            ],
            [
             0.7777777777777778,
             "#fb9f3a"
            ],
            [
             0.8888888888888888,
             "#fdca26"
            ],
            [
             1,
             "#f0f921"
            ]
           ],
           "sequentialminus": [
            [
             0,
             "#0d0887"
            ],
            [
             0.1111111111111111,
             "#46039f"
            ],
            [
             0.2222222222222222,
             "#7201a8"
            ],
            [
             0.3333333333333333,
             "#9c179e"
            ],
            [
             0.4444444444444444,
             "#bd3786"
            ],
            [
             0.5555555555555556,
             "#d8576b"
            ],
            [
             0.6666666666666666,
             "#ed7953"
            ],
            [
             0.7777777777777778,
             "#fb9f3a"
            ],
            [
             0.8888888888888888,
             "#fdca26"
            ],
            [
             1,
             "#f0f921"
            ]
           ]
          },
          "colorway": [
           "#636efa",
           "#EF553B",
           "#00cc96",
           "#ab63fa",
           "#FFA15A",
           "#19d3f3",
           "#FF6692",
           "#B6E880",
           "#FF97FF",
           "#FECB52"
          ],
          "font": {
           "color": "#2a3f5f"
          },
          "geo": {
           "bgcolor": "white",
           "lakecolor": "white",
           "landcolor": "white",
           "showlakes": true,
           "showland": true,
           "subunitcolor": "#C8D4E3"
          },
          "hoverlabel": {
           "align": "left"
          },
          "hovermode": "closest",
          "mapbox": {
           "style": "light"
          },
          "paper_bgcolor": "white",
          "plot_bgcolor": "white",
          "polar": {
           "angularaxis": {
            "gridcolor": "#EBF0F8",
            "linecolor": "#EBF0F8",
            "ticks": ""
           },
           "bgcolor": "white",
           "radialaxis": {
            "gridcolor": "#EBF0F8",
            "linecolor": "#EBF0F8",
            "ticks": ""
           }
          },
          "scene": {
           "xaxis": {
            "backgroundcolor": "white",
            "gridcolor": "#DFE8F3",
            "gridwidth": 2,
            "linecolor": "#EBF0F8",
            "showbackground": true,
            "ticks": "",
            "zerolinecolor": "#EBF0F8"
           },
           "yaxis": {
            "backgroundcolor": "white",
            "gridcolor": "#DFE8F3",
            "gridwidth": 2,
            "linecolor": "#EBF0F8",
            "showbackground": true,
            "ticks": "",
            "zerolinecolor": "#EBF0F8"
           },
           "zaxis": {
            "backgroundcolor": "white",
            "gridcolor": "#DFE8F3",
            "gridwidth": 2,
            "linecolor": "#EBF0F8",
            "showbackground": true,
            "ticks": "",
            "zerolinecolor": "#EBF0F8"
           }
          },
          "shapedefaults": {
           "line": {
            "color": "#2a3f5f"
           }
          },
          "ternary": {
           "aaxis": {
            "gridcolor": "#DFE8F3",
            "linecolor": "#A2B1C6",
            "ticks": ""
           },
           "baxis": {
            "gridcolor": "#DFE8F3",
            "linecolor": "#A2B1C6",
            "ticks": ""
           },
           "bgcolor": "white",
           "caxis": {
            "gridcolor": "#DFE8F3",
            "linecolor": "#A2B1C6",
            "ticks": ""
           }
          },
          "title": {
           "x": 0.05
          },
          "xaxis": {
           "automargin": true,
           "gridcolor": "#EBF0F8",
           "linecolor": "#EBF0F8",
           "ticks": "",
           "title": {
            "standoff": 15
           },
           "zerolinecolor": "#EBF0F8",
           "zerolinewidth": 2
          },
          "yaxis": {
           "automargin": true,
           "gridcolor": "#EBF0F8",
           "linecolor": "#EBF0F8",
           "ticks": "",
           "title": {
            "standoff": 15
           },
           "zerolinecolor": "#EBF0F8",
           "zerolinewidth": 2
          }
         }
        },
        "title": {
         "text": "Count of Songs Featured in the Billboard Hot 100 by Album"
        },
        "xaxis": {
         "anchor": "y",
         "domain": [
          0,
          1
         ],
         "title": {
          "text": "Count"
         }
        },
        "yaxis": {
         "anchor": "x",
         "domain": [
          0,
          1
         ],
         "title": {
          "text": "Albums"
         }
        }
       }
      }
     },
     "metadata": {},
     "output_type": "display_data"
    }
   ],
   "source": [
    "# frequency of songs in hot 100 by album\n",
    "fig = px.bar(df['album_name'].value_counts().iloc[:11], x='album_name', color_discrete_map={\n",
    "    'Taylor Swift': '#4BA1C7',\n",
    "    'Fearless': '#C9B079',\n",
    "    '1989': '#C5b5d4',\n",
    "    'Red': '#7d1818',\n",
    "    'reputation': '#4d4d4d',\n",
    "    'Midnights': '#898ea8',\n",
    "    'folklore': '#CBCBCB',\n",
    "    'evermore': '#DA9F79',\n",
    "    \"Red (Taylor's Version)\": '#c96464'\n",
    "    })\n",
    "fig.update_layout(\n",
    "title='Count of Songs Featured in the Billboard Hot 100 by Album',\n",
    "xaxis_title='Count',\n",
    "yaxis_title='Albums')\n",
    "fig.write_html(\"Count of Songs Featured in the Billboard Hot 100 by Album.html\")\n",
    "fig.show()"
   ]
  },
  {
   "cell_type": "code",
   "execution_count": null,
   "metadata": {},
   "outputs": [],
   "source": []
  }
 ],
 "metadata": {
  "kernelspec": {
   "display_name": "Python 3.9.12 ('base')",
   "language": "python",
   "name": "python3"
  },
  "language_info": {
   "codemirror_mode": {
    "name": "ipython",
    "version": 3
   },
   "file_extension": ".py",
   "mimetype": "text/x-python",
   "name": "python",
   "nbconvert_exporter": "python",
   "pygments_lexer": "ipython3",
   "version": "3.9.12"
  },
  "orig_nbformat": 4,
  "vscode": {
   "interpreter": {
    "hash": "034d402928e7dd6838df8fc3eb26f18453ac553d2b12ea602cdb4755ac171093"
   }
  }
 },
 "nbformat": 4,
 "nbformat_minor": 2
}
