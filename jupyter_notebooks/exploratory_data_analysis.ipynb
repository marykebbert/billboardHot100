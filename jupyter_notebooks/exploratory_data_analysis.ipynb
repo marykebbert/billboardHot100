{
 "cells": [
  {
   "cell_type": "code",
   "execution_count": null,
   "metadata": {},
   "outputs": [],
   "source": [
    "# import the necessary packages\n",
    "import pandas as pd\n",
    "import plotly.express as px\n",
    "import plotly.io as pio\n",
    "import plotly.graph_objects as go"
   ]
  },
  {
   "cell_type": "code",
   "execution_count": null,
   "metadata": {},
   "outputs": [],
   "source": [
    "# change the default theme\n",
    "pio.templates.default = \"plotly_white\""
   ]
  },
  {
   "cell_type": "code",
   "execution_count": null,
   "metadata": {},
   "outputs": [],
   "source": [
    "# read in data and format\n",
    "df = pd.read_table(\"date_indexed_songs.csv\")\n",
    "df.index = df.set_index('date').index.astype('datetime64[ns]')\n",
    "df['album_name'] = df['album_name'].astype('category')\n",
    "df['album_name'] = df['album_name'].cat.rename_categories({'Taylor Swift': 'Taylor Swift',\n",
    "                                                          'Fearless Platinum Edition': 'Fearless',\n",
    "                                                         'Speak Now (Deluxe Edition)': 'Speak Now',\n",
    "                                                         'Red (Deluxe Edition)': 'Red',\n",
    "                                                         '1989 (Deluxe Edition)': '1989',\n",
    "                                                         'reputation': 'reputation',\n",
    "                                                         'lover': 'lover',\n",
    "                                                         'folklore (deluxe version)': 'folklore',\n",
    "                                                         'evermore (deluxe version)': 'evermore',\n",
    "                                                         \"Fearless (Taylor's Version)\": \"Fearless (Taylor's Version)\",\n",
    "                                                         \"Red (Taylor's Version)\": \"Red (Taylor's Version)\",\n",
    "                                                         'Midnights (3am Edition)': 'Midnights'})"
   ]
  },
  {
   "cell_type": "code",
   "execution_count": null,
   "metadata": {},
   "outputs": [],
   "source": [
    "# set a color for each album based on the album cover\n",
    "# list all main albums\n",
    "album_colors = {\n",
    "    'Taylor Swift': '#4BA1C7',\n",
    "    'Fearless': '#C9B079',\n",
    "    '1989': '#C5b5d4',\n",
    "    'Red': '#a71f1f',\n",
    "    'reputation': '#000000',\n",
    "    'Midnights': '#898ea8',\n",
    "    'folklore': '#CBCBCB',\n",
    "    'evermore': '#DA9F79',\n",
    "    \"Red (Taylor's Version)\": '#c96464',\n",
    "    'Speak Now': '#B9779E',\n",
    "    'lover': '#FCF1C7',\n",
    "    \"Fearless (Taylor's Version)\": '#745835'\n",
    "    }\n",
    "albums = ['Taylor Swift','Fearless','Speak Now','Red','1989','reputation','lover','folklore','evermore',\"Fearless (Taylor's Version)\",\"Red (Taylor's Version)\",'Midnights']"
   ]
  },
  {
   "cell_type": "code",
   "execution_count": null,
   "metadata": {},
   "outputs": [],
   "source": [
    "# function to graph all albums over a user-defined period\n",
    "def get_all_albums(period):\n",
    "    fig = go.Figure()\n",
    "    \n",
    "    for album in albums:\n",
    "        period_inTop100 = df[df['album_name'] == album].resample(period).count()\n",
    "        \n",
    "        fig.add_trace(go.Scatter(x=period_inTop100.index, y=period_inTop100['rank'],\n",
    "                    mode='lines+markers',\n",
    "                    name=album,\n",
    "                                marker_color = album_colors[album]))\n",
    "    fig.update_layout(\n",
    "    title='Number of Songs in the Billboard Hot 100 by Album',\n",
    "    xaxis_title='Date',\n",
    "    yaxis_title='Number of Songs in the Billboard Hot 100',\n",
    "    legend_title='Albums')\n",
    "    fig.write_html(\"Number of songs in the billboard hot 100 by album.html\")\n",
    "    fig.show()"
   ]
  },
  {
   "cell_type": "code",
   "execution_count": null,
   "metadata": {},
   "outputs": [],
   "source": [
    "get_all_albums('3M')"
   ]
  },
  {
   "cell_type": "code",
   "execution_count": null,
   "metadata": {},
   "outputs": [],
   "source": [
    "# Show all songs from an album averaged out by a user-defined period\n",
    "def get_album_songs(album, period):\n",
    "    trial = df[df['album_name'] == album]\n",
    "    songs = trial['song'].unique()\n",
    "    a = trial.groupby('song').resample(period).mean()\n",
    "\n",
    "    fig = go.Figure()\n",
    "    for song in songs:\n",
    "        song_data = a.loc[song]\n",
    "        fig.add_trace(go.Scatter(x=song_data.index, y=song_data['rank'],\n",
    "                        mode='lines+markers', name=song))\n",
    "    #fig.update_yaxes(autorange=\"reversed\")\n",
    "    fig.update_yaxes(range=[100,1], tick0=1)\n",
    "    fig.update_layout(\n",
    "    title= '\"' + album + '\": Popularity Over Time',\n",
    "    yaxis_title=\"Billboard Hot 100 Ranking\",\n",
    "    xaxis_title=\"Date\",\n",
    "    legend_title=\"Ranked Songs In Album\",\n",
    ")\n",
    "    fig.write_html(\"reputation: popularity over time.html\")\n",
    "    fig.show()"
   ]
  },
  {
   "cell_type": "code",
   "execution_count": null,
   "metadata": {},
   "outputs": [],
   "source": [
    "get_album_songs('reputation', 'W')"
   ]
  },
  {
   "cell_type": "code",
   "execution_count": null,
   "metadata": {},
   "outputs": [],
   "source": [
    "# get the most featured songs\n",
    "df1 = df.copy()\n",
    "sorter = df1['song'].value_counts().iloc[:10].index.tolist() \n",
    "df1.song = df1.song.astype(\"category\")\n",
    "df1.song = df1.song.cat.set_categories(sorter)\n",
    "df1 = df1.dropna()\n",
    "\n",
    "fig = px.histogram(df1, y='song', color = 'album_name', color_discrete_map=album_colors)\n",
    "fig.update_layout(\n",
    "yaxis_categoryorder='total descending',\n",
    "title='Songs Featured the Most in the Billboard Hot 100',\n",
    "xaxis_title='Song',\n",
    "yaxis_title='Times Featured in the Billboard Hot 100',\n",
    "legend_title='Album Name')\n",
    "fig.write_html(\"Songs Featured the Most in the Billboard Hot 100.html\")\n",
    "fig.show()"
   ]
  },
  {
   "cell_type": "code",
   "execution_count": null,
   "metadata": {},
   "outputs": [],
   "source": [
    "# get all songs ever ranked #1\n",
    "fig = px.histogram(df[df['rank']==1], x='song', color = 'album_name', color_discrete_map=album_colors)\n",
    "fig.update_layout(\n",
    "xaxis_categoryorder='total descending',\n",
    "title='Songs Ranked #1 in the Billboard Hot 100',\n",
    "xaxis_title='Songs',\n",
    "yaxis_title='Number of Occurrences',\n",
    "legend_title='Album Name')\n",
    "fig.write_html(\"Songs Ranked #1 in the Billboard Hot 100.html\")\n",
    "fig.show()"
   ]
  },
  {
   "cell_type": "code",
   "execution_count": null,
   "metadata": {},
   "outputs": [],
   "source": [
    "# heat map of songs in hot 100 over time\n",
    "fig = px.density_heatmap(df, x=\"date\", y=\"rank\", nbinsx=30, nbinsy=10, color_continuous_scale='Blues')\n",
    "fig.update_yaxes(range=[100,1], tick0=1)\n",
    "fig.update_layout(\n",
    "title='Popularity Over the Years',\n",
    "xaxis_title='Date',\n",
    "yaxis_title='Top 100 Billboard Ranking')\n",
    "fig.write_html(\"Popularity Over the Years.html\")\n",
    "fig.show()"
   ]
  },
  {
   "cell_type": "code",
   "execution_count": null,
   "metadata": {},
   "outputs": [],
   "source": [
    "# frequency of songs in hot 100 by album\n",
    "fig = px.bar(df['album_name'].value_counts().iloc[:11], x='album_name', color_discrete_map={\n",
    "    'Taylor Swift': '#4BA1C7',\n",
    "    'Fearless': '#C9B079',\n",
    "    '1989': '#C5b5d4',\n",
    "    'Red': '#7d1818',\n",
    "    'reputation': '#4d4d4d',\n",
    "    'Midnights': '#898ea8',\n",
    "    'folklore': '#CBCBCB',\n",
    "    'evermore': '#DA9F79',\n",
    "    \"Red (Taylor's Version)\": '#c96464'\n",
    "    })\n",
    "fig.update_layout(\n",
    "title='Count of Songs Featured in the Billboard Hot 100 by Album',\n",
    "xaxis_title='Count',\n",
    "yaxis_title='Albums')\n",
    "fig.write_html(\"Count of Songs Featured in the Billboard Hot 100 by Album.html\")\n",
    "fig.show()"
   ]
  }
 ],
 "metadata": {
  "kernelspec": {
   "display_name": "Python 3.9.12 ('base')",
   "language": "python",
   "name": "python3"
  },
  "language_info": {
   "codemirror_mode": {
    "name": "ipython",
    "version": 3
   },
   "file_extension": ".py",
   "mimetype": "text/x-python",
   "name": "python",
   "nbconvert_exporter": "python",
   "pygments_lexer": "ipython3",
   "version": "3.9.12"
  },
  "orig_nbformat": 4,
  "vscode": {
   "interpreter": {
    "hash": "034d402928e7dd6838df8fc3eb26f18453ac553d2b12ea602cdb4755ac171093"
   }
  }
 },
 "nbformat": 4,
 "nbformat_minor": 2
}
