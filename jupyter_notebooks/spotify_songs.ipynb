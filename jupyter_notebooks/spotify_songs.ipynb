{
 "cells": [
  {
   "cell_type": "code",
   "execution_count": 1,
   "metadata": {},
   "outputs": [],
   "source": [
    "# import the necessary packages\n",
    "import spotipy\n",
    "from spotipy.oauth2 import SpotifyClientCredentials\n",
    "import pandas as pd\n",
    "import api_keys #file containing my API keys"
   ]
  },
  {
   "cell_type": "code",
   "execution_count": 2,
   "metadata": {},
   "outputs": [],
   "source": [
    "# load my spotify credentials\n",
    "client_credentials_manager = SpotifyClientCredentials(client_id=api_keys.cid, client_secret=api_keys.secret)\n",
    "sp = spotipy.Spotify(client_credentials_manager = client_credentials_manager)"
   ]
  },
  {
   "cell_type": "code",
   "execution_count": 3,
   "metadata": {},
   "outputs": [],
   "source": [
    "# list of albums to avoid duplicates\n",
    "albums_to_keep = {\"Midnights (3am Edition)\": \"3lS1y25WAhcqJDATJK70Mq\",\n",
    "                 \"Red (Taylor's Version)\": \"6kZ42qRrzov54LcAk4onW9\",\n",
    "                 \"Fearless (Taylor's Version)\": \"4hDok0OAJd57SGIT8xuWJH\",\n",
    "                 \"evermore (deluxe version)\": \"6AORtDjduMM3bupSWzbTSG\",\n",
    "                 \"folklore (deluxe version)\": \"1pzvBxYgT6OVwJLtHkrdQK\",\n",
    "                 \"lover\": \"1NAmidJlEaVgA3MpcPFYGq\",\n",
    "                 \"reputation\": \"6DEjYFkNZh67HP7R9PSZvv\",\n",
    "                 \"1989 (Deluxe Edition)\": \"34OkZVpuzBa9y40DCy0LPR\",\n",
    "                 \"Red (Deluxe Edition)\": \"1KlU96Hw9nlvqpBPlSqcTV\",\n",
    "                 \"Speak Now (Deluxe Edition)\": \"5EpMjweRD573ASl7uNiHym\",\n",
    "                 \"Fearless Platinum Edition\": \"43OpbkiiIxJO8ktIB777Nn\",\n",
    "                 \"Taylor Swift\": \"7mzrIsaAjnXihW3InKjlC3\",\n",
    "                 \"Ronan\": \"4T5606j6qpkQrWlwbKPLOp\",\n",
    "                 \"Sweeter Than Fiction\": \"11e4xCXllbvk8pWc1cCas1\",\n",
    "                 \"Christmas Tree Farm\": \"5JnnrTE35MQagEnEkFthiF\",\n",
    "                 \"Only The Young\": \"5LGsh3kexUfi3qkIIxb8vK\",\n",
    "                 \"The Joker And The Queen (feat. Taylor Swift)\": \"0vkAczpFKCazPKaoLtnBr0\",\n",
    "                 \"This Love (Taylor's Version)\": \"3In1CblWZswwun5MhOa10y\",\n",
    "                 \"Carolina (From The Motion Picture 'Where The Crawdads Sing')\": \"5Bwg2XxrjTlrNy6BC7KQZf\",\n",
    "                 \"Today Was A Fairytale\": \"2JK0T590oG0pJckY9HRniL\"}"
   ]
  },
  {
   "cell_type": "code",
   "execution_count": 4,
   "metadata": {},
   "outputs": [],
   "source": [
    "tracks = []\n",
    "for album_name in albums_to_keep:\n",
    "    \n",
    "    album = sp.album(albums_to_keep[album_name])\n",
    "    album_name = album['name']\n",
    "    release_date = album['release_date']\n",
    "    \n",
    "    album_tracks = sp.album_tracks(album['uri'])[\"items\"]\n",
    "    for song in album_tracks:\n",
    "        name = song['name']\n",
    "        duration = song['duration_ms']\n",
    "        danceability = sp.audio_features(song['uri'])[0]['danceability']\n",
    "        popularity = sp.track(song['uri'])['popularity']\n",
    "        track = [name, album_name, release_date, popularity, duration, danceability]\n",
    "        tracks.append(track)"
   ]
  },
  {
   "cell_type": "code",
   "execution_count": 5,
   "metadata": {},
   "outputs": [],
   "source": [
    "all_songs = pd.DataFrame(tracks, columns=[\"name\", \"album_name\", \"release_date\", \"popularity\", \"duration\", \"danceability\"])\n",
    "all_songs.to_csv('all_songs.csv', sep ='\\t', index = False)"
   ]
  }
 ],
 "metadata": {
  "kernelspec": {
   "display_name": "Python 3.9.12 ('base')",
   "language": "python",
   "name": "python3"
  },
  "language_info": {
   "codemirror_mode": {
    "name": "ipython",
    "version": 3
   },
   "file_extension": ".py",
   "mimetype": "text/x-python",
   "name": "python",
   "nbconvert_exporter": "python",
   "pygments_lexer": "ipython3",
   "version": "3.9.12"
  },
  "orig_nbformat": 4,
  "vscode": {
   "interpreter": {
    "hash": "034d402928e7dd6838df8fc3eb26f18453ac553d2b12ea602cdb4755ac171093"
   }
  }
 },
 "nbformat": 4,
 "nbformat_minor": 2
}
