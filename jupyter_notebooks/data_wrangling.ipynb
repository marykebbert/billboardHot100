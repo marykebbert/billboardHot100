{
 "cells": [
  {
   "cell_type": "code",
   "execution_count": null,
   "metadata": {},
   "outputs": [],
   "source": [
    "# import the necessary packages\n",
    "import pandas as pd\n",
    "import re"
   ]
  },
  {
   "cell_type": "code",
   "execution_count": null,
   "metadata": {},
   "outputs": [],
   "source": [
    "# make the merging simpler by:\n",
    "def clean_song(row):\n",
    "    song = row.str.lower() # making all names lowercased\n",
    "    song = str(song.str.split(' -')[0][0]) # taking out anything after - (like \"- Radio Edition\")\n",
    "    song = re.sub(r\" \\(feat. .+(?= .tayl)\", \"\", song) # take out anything with \"feature\"\n",
    "    song = re.sub(r\" \\(feat. .+(?= \\()\", \"\", song) # take out extra parentheses\n",
    "    song = re.sub(r\" \\(feat. .+\", \"\", song) # take out remaining lines after feature\n",
    "    song = song.replace(\"’\", \"'\") # replace all ’ with '\n",
    "    return song"
   ]
  },
  {
   "cell_type": "code",
   "execution_count": null,
   "metadata": {},
   "outputs": [],
   "source": [
    "# read in Spotify data\n",
    "swift_1 = pd.read_table('all_songs.csv')\n",
    "swift_1 = swift_1.rename(columns={\"name\": \"song\"}) # rename columns to match\n",
    "swift_1.song = swift_1.apply(clean_song, axis=1)"
   ]
  },
  {
   "cell_type": "code",
   "execution_count": null,
   "metadata": {},
   "outputs": [],
   "source": [
    "# read in Billboard Hot 100 data\n",
    "swift_2 = pd.read_table(\"../billboardHot100/long_df_swift.txt\")\n",
    "swift_2 = swift_2[swift_2['artist'].str.contains(\"Taylor Swift\")]\n",
    "swift_2['date'] = swift_2['date'].astype('datetime64[D]')\n",
    "swift_2 = pd.pivot(data=swift_2, index=\"song\", columns=['date'], values='rank')\n",
    "swift_2 = swift_2.reset_index()\n",
    "swift_2.song = swift_2.apply(clean_song, axis=1)\n",
    "swift_2 = swift_2.set_index(swift_2.song)\n",
    "swift_2 = swift_2.drop(columns=['song'])"
   ]
  },
  {
   "cell_type": "code",
   "execution_count": null,
   "metadata": {},
   "outputs": [],
   "source": [
    "# join the tables on \"song\"\n",
    "a = swift_1.join(swift_2, on='song', how='outer').reset_index()"
   ]
  },
  {
   "cell_type": "code",
   "execution_count": null,
   "metadata": {},
   "outputs": [],
   "source": [
    "# remove duplicate songs (keep only the most popular)\n",
    "index = -1\n",
    "to_remove = []\n",
    "count = a['song'].value_counts()\n",
    "\n",
    "for i in range(len(a)):\n",
    "    song = a.iloc[i].song\n",
    "    if count[song] > 1:\n",
    "        if i + 1 < len(a):\n",
    "            current_row = a.iloc[i]\n",
    "            next_row = a.iloc[i+1]\n",
    "            if current_row.song == next_row.song:\n",
    "                if current_row.popularity < next_row.popularity:\n",
    "                    to_remove.append(i)\n",
    "                else:\n",
    "                    to_remove.append(i+1)\n",
    "\n",
    "b = a.drop(to_remove)"
   ]
  },
  {
   "cell_type": "code",
   "execution_count": null,
   "metadata": {},
   "outputs": [],
   "source": [
    "# melt and set index to date (one row for every song + date combination)\n",
    "c = b.drop(columns=['index']).reset_index().drop(columns=['index'])\n",
    "d = pd.melt(c, id_vars=c.columns[:6], var_name = 'date', value_name = 'rank')\n",
    "f = d.dropna()\n",
    "f.index = f.set_index('date').index.astype('datetime64[ns]')"
   ]
  },
  {
   "cell_type": "code",
   "execution_count": null,
   "metadata": {},
   "outputs": [],
   "source": [
    "# save as a csv\n",
    "f.to_csv('date_indexed_songs.csv', sep='\\t', index=False)"
   ]
  }
 ],
 "metadata": {
  "kernelspec": {
   "display_name": "Python 3.9.12 ('base')",
   "language": "python",
   "name": "python3"
  },
  "language_info": {
   "codemirror_mode": {
    "name": "ipython",
    "version": 3
   },
   "file_extension": ".py",
   "mimetype": "text/x-python",
   "name": "python",
   "nbconvert_exporter": "python",
   "pygments_lexer": "ipython3",
   "version": "3.9.12"
  },
  "orig_nbformat": 4,
  "vscode": {
   "interpreter": {
    "hash": "034d402928e7dd6838df8fc3eb26f18453ac553d2b12ea602cdb4755ac171093"
   }
  }
 },
 "nbformat": 4,
 "nbformat_minor": 2
}
