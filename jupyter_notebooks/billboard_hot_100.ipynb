{
 "cells": [
  {
   "cell_type": "code",
   "execution_count": 5,
   "metadata": {},
   "outputs": [],
   "source": [
    "# import the necessary packages\n",
    "import pandas as pd\n",
    "from bs4 import BeautifulSoup\n",
    "import requests\n",
    "import numpy as np\n",
    "from datetime import datetime"
   ]
  },
  {
   "cell_type": "code",
   "execution_count": 7,
   "metadata": {},
   "outputs": [],
   "source": [
    "# function to get a week's Billboard Top 100 songs, artists, and rankings\n",
    "def get_top_100(url):\n",
    "    \n",
    "    # classes\n",
    "    c_top_artist = \"c-tagline a-font-primary-l a-font-primary-m@mobile-max lrv-u-color-black u-color-white@mobile-max lrv-u-margin-tb-00 lrv-u-padding-t-025 lrv-u-margin-r-150\"\n",
    "    c_top_song = \"c-title__link lrv-a-unstyle-link\"\n",
    "    c_top99_artists = \"c-label a-no-trucate a-font-primary-s lrv-u-font-size-14@mobile-max u-line-height-normal@mobile-max u-letter-spacing-0021 lrv-u-display-block a-truncate-ellipsis-2line u-max-width-330 u-max-width-230@tablet-only\"\n",
    "    c_top99_songs = \"c-title a-no-trucate a-font-primary-bold-s u-letter-spacing-0021 lrv-u-font-size-18@tablet lrv-u-font-size-16 u-line-height-125 u-line-height-normal@mobile-max a-truncate-ellipsis u-max-width-330 u-max-width-230@tablet-only\"\n",
    "    \n",
    "    # tags\n",
    "    t_top_artist = \"p\"\n",
    "    t_top_song = \"a\"\n",
    "    t_top99_artists = \"span\"\n",
    "    t_top99_songs = \"h3\"\n",
    "    \n",
    "    \n",
    "    r = requests.get(url)\n",
    "    soup = BeautifulSoup(r.content, \"html.parser\")\n",
    "    date = pd.to_datetime(soup.find_all(id=\"section-heading\")[1].text.strip().strip(\"Week of \"))\n",
    "    rank = np.arange(1,101)\n",
    "    songs = []\n",
    "    artists = []\n",
    "    \n",
    "    if soup.text.find(\"Taylor Swift\") < 0:\n",
    "        return None\n",
    "    else :\n",
    "        top_artist = soup.find(t_top_artist, c_top_artist).text.strip()\n",
    "        top_song = soup.find(t_top_song, c_top_song).text.strip()\n",
    "        artists.append(top_artist)\n",
    "        songs.append(top_song)\n",
    "\n",
    "        top_99_artists = [artist.text.strip() for artist in soup.find_all(t_top99_artists, c_top99_artists)]\n",
    "        top_99_songs = [song.text.strip() for song in soup.find_all(t_top99_songs, c_top99_songs)]\n",
    "        artists.extend(top_99_artists)\n",
    "        songs.extend(top_99_songs)\n",
    "\n",
    "\n",
    "        df = pd.DataFrame({\"song\": songs, \"artist\": artists, \"rank\": rank})\n",
    "        df['date'] = date\n",
    "        \n",
    "        return df"
   ]
  },
  {
   "cell_type": "code",
   "execution_count": 14,
   "metadata": {},
   "outputs": [
    {
     "name": "stdout",
     "output_type": "stream",
     "text": [
      "2022-09-12\n",
      "2022-09-19\n",
      "2022-09-26\n",
      "2022-10-03\n",
      "2022-10-10\n",
      "2022-10-17\n",
      "2022-10-24\n",
      "2022-10-31\n",
      "2022-11-07\n",
      "2022-11-14\n"
     ]
    }
   ],
   "source": [
    "# run this function from June 2006 to now\n",
    "dfs = []\n",
    "base_url = \"https://www.billboard.com/charts/hot-100/\"\n",
    "b = pd.date_range(end=datetime.now(), periods=860, freq=\"W-Mon\")\n",
    "dates = [str(date).split()[0] for date in b]\n",
    "\n",
    "for date in dates:\n",
    "    url = base_url + date\n",
    "    df = get_top_100(url)\n",
    "    if df is not None:\n",
    "        dfs.append(df)"
   ]
  },
  {
   "cell_type": "code",
   "execution_count": 15,
   "metadata": {},
   "outputs": [],
   "source": [
    "# combine each week's chart into one long dataframe\n",
    "pd.concat(dfs).to_csv(\"long_df_swift.txt\", sep='\\t', index=False)"
   ]
  },
  {
   "cell_type": "code",
   "execution_count": null,
   "metadata": {},
   "outputs": [],
   "source": []
  }
 ],
 "metadata": {
  "kernelspec": {
   "display_name": "Python 3.9.12 ('base')",
   "language": "python",
   "name": "python3"
  },
  "language_info": {
   "codemirror_mode": {
    "name": "ipython",
    "version": 3
   },
   "file_extension": ".py",
   "mimetype": "text/x-python",
   "name": "python",
   "nbconvert_exporter": "python",
   "pygments_lexer": "ipython3",
   "version": "3.9.12"
  },
  "orig_nbformat": 4,
  "vscode": {
   "interpreter": {
    "hash": "034d402928e7dd6838df8fc3eb26f18453ac553d2b12ea602cdb4755ac171093"
   }
  }
 },
 "nbformat": 4,
 "nbformat_minor": 2
}
